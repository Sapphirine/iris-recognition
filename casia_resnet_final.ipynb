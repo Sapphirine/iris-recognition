{
  "nbformat": 4,
  "nbformat_minor": 0,
  "metadata": {
    "colab": {
      "name": "casia_resnet_final.ipynb",
      "provenance": [],
      "collapsed_sections": [],
      "machine_shape": "hm"
    },
    "kernelspec": {
      "name": "python3",
      "display_name": "Python 3"
    },
    "language_info": {
      "name": "python"
    },
    "accelerator": "GPU"
  },
  "cells": [
    {
      "cell_type": "code",
      "execution_count": null,
      "metadata": {
        "colab": {
          "base_uri": "https://localhost:8080/"
        },
        "id": "VujD4e22-cwi",
        "outputId": "148e5cdb-fc45-4698-add4-1db62040e177"
      },
      "outputs": [
        {
          "output_type": "stream",
          "name": "stdout",
          "text": [
            "Found GPU at: /device:GPU:0\n"
          ]
        }
      ],
      "source": [
        "%tensorflow_version 2.x\n",
        "import tensorflow as tf\n",
        "device_name = tf.test.gpu_device_name()\n",
        "if device_name != '/device:GPU:0':\n",
        "  raise SystemError('GPU device not found')\n",
        "print('Found GPU at: {}'.format(device_name))"
      ]
    },
    {
      "cell_type": "code",
      "source": [
        "import numpy as np\n",
        "import matplotlib.pyplot as plt\n",
        "from PIL import Image\n",
        "import os\n",
        "import tensorflow as tf\n",
        "import cv2\n",
        "from sklearn import datasets\n",
        "from sklearn.model_selection import train_test_split\n",
        "from sklearn.preprocessing import StandardScaler\n",
        "import math\n",
        "from skimage.filters.rank import equalize\n",
        "from skimage.morphology import disk"
      ],
      "metadata": {
        "id": "FD7gEAhC-xb8"
      },
      "execution_count": null,
      "outputs": []
    },
    {
      "cell_type": "code",
      "source": [
        "from google.colab import drive\n",
        "drive.mount('/content/drive')"
      ],
      "metadata": {
        "colab": {
          "base_uri": "https://localhost:8080/"
        },
        "id": "1HlbRt2Y-5vY",
        "outputId": "ea948699-67c4-4ebe-9c84-5ff2387ad61f"
      },
      "execution_count": null,
      "outputs": [
        {
          "output_type": "stream",
          "name": "stdout",
          "text": [
            "Mounted at /content/drive\n"
          ]
        }
      ]
    },
    {
      "cell_type": "code",
      "source": [
        "# import glob, os\n",
        "# os.chdir(\"/content/drive/MyDrive/EECS-6893-Project/CASIA-test\")\n",
        "# count = 0 \n",
        "# for filename in glob.glob(\"*.jpg\"):\n",
        "#     person_name = \"/content/drive/MyDrive/EECS-6893-Project/CASIA-test\" + \"/\" + filename\n",
        "#     image = cv2.imread(person_name)\n",
        "#     cv2.imwrite(\"/content/drive/MyDrive/EECS-6893-Project/CASIA-clean/\" + filename, image)\n",
        "#     image_path = \"/content/drive/MyDrive/EECS-6893-Project/CASIA-clean\" + \"/\" + filename\n",
        "    image = Image.open(image_path)\n",
        "    # print(\"Image size: \", np.asarray(image).shape)\n",
        "    # print(count)\n",
        "    # count = count + 1"
      ],
      "metadata": {
        "id": "oShcCb2A_zpb"
      },
      "execution_count": null,
      "outputs": []
    },
    {
      "cell_type": "code",
      "source": [
        "directory_name = \"/content/drive/MyDrive/EECS-6893-Project/CASIA-clean\"\n",
        "x, y = np.zeros([2838, 224, 224, 3]), np.zeros([2838])\n",
        "\n",
        "\n",
        "from collections import defaultdict\n",
        "index = 0\n",
        "n = 0\n",
        "record = set()\n",
        "dic = defaultdict(int)\n",
        "for filename in os.listdir(directory_name):\n",
        "  image = Image.open(directory_name + '/' + filename) #open image\n",
        "\n",
        "  checker = filename[:5]\n",
        "\n",
        "  if checker not in record:\n",
        "    record.add(checker)\n",
        "    n += 1\n",
        "\n",
        "  dic[str(checker)] += 1\n",
        "\n",
        "  image = image.resize((224,224)) # resize \n",
        "  image = np.asarray(image) # convert to array\n",
        "\n",
        "  x[index,:,:,:] = image\n",
        "  y[index] = n\n",
        "\n",
        "  flip = np.flip(x[index],1)\n",
        "  flip = np.resize(flip, (1,224,224,3))\n",
        "  x[index+1419,:,:,:] = flip\n",
        "  y[index+1419] = n\n",
        "  index += 1\n",
        "\n"
      ],
      "metadata": {
        "id": "jHjfYfTj_3Sx"
      },
      "execution_count": null,
      "outputs": []
    },
    {
      "cell_type": "code",
      "source": [
        "from sklearn.model_selection import train_test_split\n",
        "\n",
        "x_train, x_test, y_train, y_test = train_test_split(x, y, test_size=0.2)\n",
        "print(len(x_train), len(x_test))"
      ],
      "metadata": {
        "colab": {
          "base_uri": "https://localhost:8080/"
        },
        "id": "lMKfJQtI_6kL",
        "outputId": "cd3fceca-ec4b-4c7a-eb70-848d38437d3a"
      },
      "execution_count": null,
      "outputs": [
        {
          "output_type": "stream",
          "name": "stdout",
          "text": [
            "2270 568\n"
          ]
        }
      ]
    },
    {
      "cell_type": "code",
      "source": [
        "len(record)"
      ],
      "metadata": {
        "colab": {
          "base_uri": "https://localhost:8080/"
        },
        "id": "WXrPxw7SPzmV",
        "outputId": "4a842a5a-91f0-4990-dc6c-c275f96e1f00"
      },
      "execution_count": null,
      "outputs": [
        {
          "output_type": "execute_result",
          "data": {
            "text/plain": [
              "218"
            ]
          },
          "metadata": {},
          "execution_count": 37
        }
      ]
    },
    {
      "cell_type": "code",
      "source": [
        "index_train = np.random.permutation(len(x_train))\n",
        "index_test = np.random.permutation(len(x_test))\n",
        "x_train, y_train = x_train[index_train], y_train[index_train]\n",
        "x_test, y_test = x_test[index_test], y_test[index_test]"
      ],
      "metadata": {
        "id": "XYeL9G51_8vE"
      },
      "execution_count": null,
      "outputs": []
    },
    {
      "cell_type": "code",
      "source": [
        "x_train, x_test = tf.cast(x_train, tf.float32)/255.0, tf.cast(x_test, tf.float32)/255.0\n",
        "y_train, y_test = tf.one_hot(y_train, depth=218), tf.one_hot(y_test, depth=218)"
      ],
      "metadata": {
        "id": "l8h7sv4dAS7V"
      },
      "execution_count": null,
      "outputs": []
    },
    {
      "cell_type": "code",
      "source": [
        "from tensorflow.keras.applications.resnet50 import ResNet50, preprocess_input\n",
        "from tensorflow.keras import Model\n",
        "\n",
        "#from tensorflow.keras.applications.vgg16 import VGG16\n",
        "from tensorflow.keras.layers import Flatten"
      ],
      "metadata": {
        "id": "mOOrgccQAUVj"
      },
      "execution_count": null,
      "outputs": []
    },
    {
      "cell_type": "code",
      "source": [
        "from tensorflow.keras import Model\n",
        "pre_trained_model = ResNet50(input_shape=(224,224,3), weights='imagenet')\n",
        "ResNet = Model(inputs=pre_trained_model.input,outputs=pre_trained_model.layers[-2].output)\n",
        "\n",
        "# First time, train without adjusting the ResNet weights to train the final dense layer first\n",
        "ResNet.trainable =  True\n",
        "model = tf.keras.Sequential([\n",
        "                             ResNet,\n",
        "                             tf.keras.layers.Dense(218, activation='softmax')\n",
        "                                      ])\n",
        "model.summary()\n",
        "\n",
        "# from tensorflow.keras import Model\n",
        "# pre_trained_model = VGG16(input_shape=(224,224,3), weights='imagenet')\n",
        "# vgg_model = Model(inputs=pre_trained_model.input,outputs=pre_trained_model.layers[-2].output)\n",
        "\n",
        "\n",
        "# # First time, train without adjusting the ResNet weights to train the final dense layer first\n",
        "# vgg_model.trainable =  False\n",
        "# model = tf.keras.Sequential([\n",
        "#                              vgg_model,\n",
        "#                              Flatten(),\n",
        "#                              tf.keras.layers.Dense(512, activation='relu'),\n",
        "#                              tf.keras.layers.Dense(190, activation='softmax')\n",
        "#                                       ])\n",
        "# model.summary()\n",
        "\n",
        "model.add_loss(lambda: 0.01*tf.reduce_sum(tf.square(model.layers[-1].kernel)))\n",
        "\n",
        "model.compile(optimizer=tf.keras.optimizers.Adam(0.0002),\n",
        "              loss=tf.keras.losses.CategoricalCrossentropy(from_logits=True), \n",
        "              metrics=tf.keras.metrics.CategoricalAccuracy())\n",
        "\n",
        "model.fit(x_train, y_train, batch_size=24, epochs=1, validation_split=0.2)\n",
        "\n",
        "ResNet.trainable =  True\n",
        "model.add_loss(lambda: 0.01*tf.reduce_sum(tf.square(model.layers[-1].kernel)))\n",
        "\n",
        "model.compile(optimizer=tf.keras.optimizers.Adam(0.0002),\n",
        "              loss=tf.keras.losses.CategoricalCrossentropy(from_logits=False), \n",
        "              metrics=tf.keras.metrics.CategoricalAccuracy())\n",
        "\n",
        "model.fit(x_train, y_train, batch_size=24, epochs=40, validation_split=0.2)"
      ],
      "metadata": {
        "colab": {
          "base_uri": "https://localhost:8080/"
        },
        "id": "zpx2qchTAUyE",
        "outputId": "b7240bfa-d627-43a8-dab5-db816364746f"
      },
      "execution_count": null,
      "outputs": [
        {
          "output_type": "stream",
          "name": "stdout",
          "text": [
            "Model: \"sequential_3\"\n",
            "_________________________________________________________________\n",
            " Layer (type)                Output Shape              Param #   \n",
            "=================================================================\n",
            " model_3 (Functional)        (None, 2048)              23587712  \n",
            "                                                                 \n",
            " dense_3 (Dense)             (None, 218)               446682    \n",
            "                                                                 \n",
            "=================================================================\n",
            "Total params: 24,034,394\n",
            "Trainable params: 23,981,274\n",
            "Non-trainable params: 53,120\n",
            "_________________________________________________________________\n"
          ]
        },
        {
          "output_type": "stream",
          "name": "stderr",
          "text": [
            "/usr/local/lib/python3.7/dist-packages/tensorflow/python/util/dispatch.py:1096: UserWarning: \"`categorical_crossentropy` received `from_logits=True`, but the `output` argument was produced by a sigmoid or softmax activation and thus does not represent logits. Was this intended?\"\n",
            "  return dispatch_target(*args, **kwargs)\n"
          ]
        },
        {
          "output_type": "stream",
          "name": "stdout",
          "text": [
            "76/76 [==============================] - 20s 168ms/step - loss: 7.4749 - categorical_accuracy: 0.2786 - val_loss: 8.8754 - val_categorical_accuracy: 0.0088\n",
            "Epoch 1/40\n",
            "76/76 [==============================] - 19s 167ms/step - loss: 6.8920 - categorical_accuracy: 0.7004 - val_loss: 9.9414 - val_categorical_accuracy: 0.0022\n",
            "Epoch 2/40\n",
            "76/76 [==============================] - 12s 152ms/step - loss: 4.4525 - categorical_accuracy: 0.8673 - val_loss: 8.8510 - val_categorical_accuracy: 0.0022\n",
            "Epoch 3/40\n",
            "76/76 [==============================] - 12s 152ms/step - loss: 3.1978 - categorical_accuracy: 0.9334 - val_loss: 7.9360 - val_categorical_accuracy: 0.0022\n",
            "Epoch 4/40\n",
            "76/76 [==============================] - 12s 152ms/step - loss: 2.3749 - categorical_accuracy: 0.9559 - val_loss: 7.3188 - val_categorical_accuracy: 0.0022\n",
            "Epoch 5/40\n",
            "76/76 [==============================] - 12s 152ms/step - loss: 1.8225 - categorical_accuracy: 0.9752 - val_loss: 6.8813 - val_categorical_accuracy: 0.0022\n",
            "Epoch 6/40\n",
            "76/76 [==============================] - 12s 152ms/step - loss: 1.4825 - categorical_accuracy: 0.9763 - val_loss: 6.5581 - val_categorical_accuracy: 0.0022\n",
            "Epoch 7/40\n",
            "76/76 [==============================] - 12s 152ms/step - loss: 1.3243 - categorical_accuracy: 0.9692 - val_loss: 6.3729 - val_categorical_accuracy: 0.0044\n",
            "Epoch 8/40\n",
            "76/76 [==============================] - 12s 152ms/step - loss: 1.3912 - categorical_accuracy: 0.9312 - val_loss: 6.5828 - val_categorical_accuracy: 0.0000e+00\n",
            "Epoch 9/40\n",
            "76/76 [==============================] - 12s 152ms/step - loss: 1.3628 - categorical_accuracy: 0.9334 - val_loss: 6.0807 - val_categorical_accuracy: 0.0264\n",
            "Epoch 10/40\n",
            "76/76 [==============================] - 12s 152ms/step - loss: 1.3507 - categorical_accuracy: 0.9235 - val_loss: 5.9167 - val_categorical_accuracy: 0.0374\n",
            "Epoch 11/40\n",
            "76/76 [==============================] - 12s 152ms/step - loss: 1.4000 - categorical_accuracy: 0.9268 - val_loss: 5.2632 - val_categorical_accuracy: 0.1145\n",
            "Epoch 12/40\n",
            "76/76 [==============================] - 12s 152ms/step - loss: 1.4736 - categorical_accuracy: 0.9367 - val_loss: 6.7501 - val_categorical_accuracy: 0.0176\n",
            "Epoch 13/40\n",
            "76/76 [==============================] - 12s 152ms/step - loss: 1.8350 - categorical_accuracy: 0.8970 - val_loss: 5.4741 - val_categorical_accuracy: 0.1498\n",
            "Epoch 14/40\n",
            "76/76 [==============================] - 12s 152ms/step - loss: 1.9910 - categorical_accuracy: 0.8756 - val_loss: 4.3837 - val_categorical_accuracy: 0.3326\n",
            "Epoch 15/40\n",
            "76/76 [==============================] - 12s 152ms/step - loss: 1.8538 - categorical_accuracy: 0.9086 - val_loss: 3.8144 - val_categorical_accuracy: 0.4648\n",
            "Epoch 16/40\n",
            "76/76 [==============================] - 12s 152ms/step - loss: 1.9467 - categorical_accuracy: 0.9350 - val_loss: 11.7034 - val_categorical_accuracy: 0.1454\n",
            "Epoch 17/40\n",
            "76/76 [==============================] - 12s 152ms/step - loss: 2.0996 - categorical_accuracy: 0.9240 - val_loss: 3.6934 - val_categorical_accuracy: 0.6101\n",
            "Epoch 18/40\n",
            "76/76 [==============================] - 12s 152ms/step - loss: 2.2141 - categorical_accuracy: 0.9411 - val_loss: 4.4574 - val_categorical_accuracy: 0.6233\n",
            "Epoch 19/40\n",
            "76/76 [==============================] - 12s 152ms/step - loss: 2.4592 - categorical_accuracy: 0.9378 - val_loss: 4.8973 - val_categorical_accuracy: 0.5705\n",
            "Epoch 20/40\n",
            "76/76 [==============================] - 12s 152ms/step - loss: 2.6841 - categorical_accuracy: 0.9290 - val_loss: 5.2878 - val_categorical_accuracy: 0.5991\n",
            "Epoch 21/40\n",
            "76/76 [==============================] - 12s 152ms/step - loss: 2.7425 - categorical_accuracy: 0.9400 - val_loss: 4.9397 - val_categorical_accuracy: 0.6806\n",
            "Epoch 22/40\n",
            "76/76 [==============================] - 12s 152ms/step - loss: 2.9765 - categorical_accuracy: 0.9301 - val_loss: 6.0873 - val_categorical_accuracy: 0.4207\n",
            "Epoch 23/40\n",
            "76/76 [==============================] - 12s 152ms/step - loss: 3.3806 - categorical_accuracy: 0.9169 - val_loss: 8.6914 - val_categorical_accuracy: 0.0551\n",
            "Epoch 24/40\n",
            "76/76 [==============================] - 12s 152ms/step - loss: 4.3066 - categorical_accuracy: 0.8034 - val_loss: 7.6940 - val_categorical_accuracy: 0.0463\n",
            "Epoch 25/40\n",
            "76/76 [==============================] - 12s 152ms/step - loss: 4.1407 - categorical_accuracy: 0.8040 - val_loss: 9.0846 - val_categorical_accuracy: 0.0308\n",
            "Epoch 26/40\n",
            "76/76 [==============================] - 12s 152ms/step - loss: 3.9707 - categorical_accuracy: 0.8491 - val_loss: 6.9780 - val_categorical_accuracy: 0.3833\n",
            "Epoch 27/40\n",
            "76/76 [==============================] - 12s 153ms/step - loss: 3.8787 - categorical_accuracy: 0.9069 - val_loss: 6.2133 - val_categorical_accuracy: 0.5837\n",
            "Epoch 28/40\n",
            "76/76 [==============================] - 12s 152ms/step - loss: 4.0608 - categorical_accuracy: 0.9130 - val_loss: 6.3062 - val_categorical_accuracy: 0.6322\n",
            "Epoch 29/40\n",
            "76/76 [==============================] - 12s 153ms/step - loss: 4.2546 - categorical_accuracy: 0.9213 - val_loss: 6.3734 - val_categorical_accuracy: 0.6498\n",
            "Epoch 30/40\n",
            "76/76 [==============================] - 12s 152ms/step - loss: 4.4389 - categorical_accuracy: 0.9163 - val_loss: 6.6878 - val_categorical_accuracy: 0.6432\n",
            "Epoch 31/40\n",
            "76/76 [==============================] - 12s 152ms/step - loss: 4.6915 - categorical_accuracy: 0.9273 - val_loss: 6.9455 - val_categorical_accuracy: 0.6520\n",
            "Epoch 32/40\n",
            "76/76 [==============================] - 12s 152ms/step - loss: 4.7984 - categorical_accuracy: 0.9416 - val_loss: 7.1182 - val_categorical_accuracy: 0.6564\n",
            "Epoch 33/40\n",
            "76/76 [==============================] - 12s 152ms/step - loss: 5.1254 - categorical_accuracy: 0.9328 - val_loss: 7.2476 - val_categorical_accuracy: 0.6388\n",
            "Epoch 34/40\n",
            "76/76 [==============================] - 12s 152ms/step - loss: 5.3864 - categorical_accuracy: 0.9306 - val_loss: 7.5988 - val_categorical_accuracy: 0.5947\n",
            "Epoch 35/40\n",
            "76/76 [==============================] - 12s 152ms/step - loss: 5.6261 - categorical_accuracy: 0.9306 - val_loss: 7.8341 - val_categorical_accuracy: 0.6300\n",
            "Epoch 36/40\n",
            "76/76 [==============================] - 12s 152ms/step - loss: 5.7868 - categorical_accuracy: 0.9405 - val_loss: 8.2089 - val_categorical_accuracy: 0.6322\n",
            "Epoch 37/40\n",
            "76/76 [==============================] - 12s 152ms/step - loss: 5.9704 - categorical_accuracy: 0.9389 - val_loss: 8.2115 - val_categorical_accuracy: 0.6410\n",
            "Epoch 38/40\n",
            "76/76 [==============================] - 12s 152ms/step - loss: 6.2431 - categorical_accuracy: 0.9361 - val_loss: 8.6770 - val_categorical_accuracy: 0.5969\n",
            "Epoch 39/40\n",
            "76/76 [==============================] - 12s 152ms/step - loss: 6.5117 - categorical_accuracy: 0.9229 - val_loss: 8.8030 - val_categorical_accuracy: 0.5793\n",
            "Epoch 40/40\n",
            "76/76 [==============================] - 12s 152ms/step - loss: 6.8226 - categorical_accuracy: 0.9284 - val_loss: 9.1740 - val_categorical_accuracy: 0.6520\n"
          ]
        },
        {
          "output_type": "execute_result",
          "data": {
            "text/plain": [
              "<keras.callbacks.History at 0x7fe7f689c650>"
            ]
          },
          "metadata": {},
          "execution_count": 43
        }
      ]
    },
    {
      "cell_type": "code",
      "source": [
        "model.evaluate(x_test, y_test)"
      ],
      "metadata": {
        "colab": {
          "base_uri": "https://localhost:8080/"
        },
        "id": "SHv-y8yiG5NU",
        "outputId": "0258cbe0-545a-4c87-f670-2aef12b82c66"
      },
      "execution_count": null,
      "outputs": [
        {
          "output_type": "stream",
          "name": "stdout",
          "text": [
            "18/18 [==============================] - 1s 58ms/step - loss: 9.0651 - categorical_accuracy: 0.7025\n"
          ]
        },
        {
          "output_type": "execute_result",
          "data": {
            "text/plain": [
              "[9.06507682800293, 0.702464759349823]"
            ]
          },
          "metadata": {},
          "execution_count": 44
        }
      ]
    },
    {
      "cell_type": "code",
      "source": [
        "pred = model.predict(x_test)\n",
        "np.mean(np.argmax(y_test, axis=1)==np.argmax(pred, axis=1))"
      ],
      "metadata": {
        "colab": {
          "base_uri": "https://localhost:8080/"
        },
        "id": "CfdxULmZG68M",
        "outputId": "b9feec98-eead-473f-dac1-b31a209ba537"
      },
      "execution_count": null,
      "outputs": [
        {
          "output_type": "execute_result",
          "data": {
            "text/plain": [
              "0.7024647887323944"
            ]
          },
          "metadata": {},
          "execution_count": 45
        }
      ]
    }
  ]
}