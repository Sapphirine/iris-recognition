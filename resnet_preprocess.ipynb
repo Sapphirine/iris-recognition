{
  "nbformat": 4,
  "nbformat_minor": 0,
  "metadata": {
    "colab": {
      "name": "resnet_preprocess.ipynb",
      "provenance": [],
      "machine_shape": "hm"
    },
    "kernelspec": {
      "name": "python3",
      "display_name": "Python 3"
    },
    "language_info": {
      "name": "python"
    },
    "accelerator": "GPU"
  },
  "cells": [
    {
      "cell_type": "code",
      "execution_count": 1,
      "metadata": {
        "colab": {
          "base_uri": "https://localhost:8080/"
        },
        "id": "JxshCy9M_oye",
        "outputId": "de1debf7-03d4-4b33-9dab-8953adb0daff"
      },
      "outputs": [
        {
          "output_type": "stream",
          "name": "stdout",
          "text": [
            "Found GPU at: /device:GPU:0\n"
          ]
        }
      ],
      "source": [
        "%tensorflow_version 2.x\n",
        "import tensorflow as tf\n",
        "device_name = tf.test.gpu_device_name()\n",
        "if device_name != '/device:GPU:0':\n",
        "  raise SystemError('GPU device not found')\n",
        "print('Found GPU at: {}'.format(device_name))"
      ]
    },
    {
      "cell_type": "code",
      "source": [
        "import numpy as np\n",
        "import matplotlib.pyplot as plt\n",
        "from PIL import Image\n",
        "import os\n",
        "import tensorflow as tf\n",
        "import cv2\n",
        "from sklearn import datasets\n",
        "from sklearn.model_selection import train_test_split\n",
        "from sklearn.preprocessing import StandardScaler\n",
        "import math\n",
        "from skimage.filters.rank import equalize\n",
        "from skimage.morphology import disk"
      ],
      "metadata": {
        "id": "bmL9q8_6_sMk"
      },
      "execution_count": 2,
      "outputs": []
    },
    {
      "cell_type": "code",
      "source": [
        "from google.colab import drive\n",
        "drive.mount('/content/drive')"
      ],
      "metadata": {
        "colab": {
          "base_uri": "https://localhost:8080/"
        },
        "id": "Omyga0A4_1AH",
        "outputId": "3d2b14de-2ac2-46ef-dab6-61ffb5069940"
      },
      "execution_count": 3,
      "outputs": [
        {
          "output_type": "stream",
          "name": "stdout",
          "text": [
            "Mounted at /content/drive\n"
          ]
        }
      ]
    },
    {
      "cell_type": "code",
      "source": [
        "import glob, os\n",
        "os.chdir(\"/content/drive/MyDrive/EECS-6893-Project/CASIA-test\")\n",
        "count = 0 \n",
        "for filename in glob.glob(\"*.jpg\"):\n",
        "  person_name = \"/content/drive/MyDrive/EECS-6893-Project/CASIA-test\" + \"/\" + filename\n",
        "  image = cv2.imread(person_name)\n",
        "  # cv2.imwrite(\"/content/drive/MyDrive/EECS-6893-Project/CASIA-clean/\" + filename, image)\n",
        "  # image_path = \"/content/drive/MyDrive/EECS-6893-Project/CASIA-clean\" + \"/\" + filename\n",
        "  # image = Image.open(image_path)\n",
        "  # print(\"Image size: \", np.asarray(image).shape)\n",
        "  # print(count)\n",
        "  # count = count + 1"
      ],
      "metadata": {
        "id": "pcMfZpS8_9_E"
      },
      "execution_count": 4,
      "outputs": []
    },
    {
      "cell_type": "code",
      "source": [
        "\n",
        "img_org_gray= cv2.cvtColor(image, cv2.COLOR_BGR2GRAY) \n",
        "img_histEqualization= cv2.equalizeHist(img_org_gray) ## Enhancement\n"
      ],
      "metadata": {
        "id": "8LB0TQ3wCApB"
      },
      "execution_count": 5,
      "outputs": []
    },
    {
      "cell_type": "code",
      "source": [
        "_,img_binary= cv2.threshold(img_org_gray,70,255,cv2.THRESH_BINARY) # Binary image \n",
        "\n",
        "# edges = cv2.Canny(img_binary,100,150,apertureSize=3)\n",
        "\n",
        "center_pupil = cv2.HoughCircles(img_binary, cv2.HOUGH_GRADIENT,1,250,\n",
        "                           param1=80,param2=10,minRadius=30,\n",
        "                           maxRadius=70)\n",
        "center_pupil = np.uint16(np.around(center_pupil))\n",
        "draw = image.copy()\n",
        "for i in center_pupil[0,:]:\n",
        "    print(i,i[0],i[1],i[2])\n",
        "    draw = cv2.circle(draw,(i[0],i[1]),i[2],(255,0,0),2)\n",
        "    draw = cv2.circle(draw,(i[0],i[1]),2,(255,0,0),3)\n",
        "\n",
        "(x1, y1) = center_pupil[0][0][0], center_pupil[0][0][1]"
      ],
      "metadata": {
        "colab": {
          "base_uri": "https://localhost:8080/"
        },
        "id": "w1wZnXDcCJcD",
        "outputId": "a3800437-d9ae-4a9d-d466-0d22a737b256"
      },
      "execution_count": 6,
      "outputs": [
        {
          "output_type": "stream",
          "name": "stdout",
          "text": [
            "[146 142  45] 146 142 45\n"
          ]
        }
      ]
    },
    {
      "cell_type": "code",
      "source": [
        "circles = cv2.HoughCircles(img_histEqualization, cv2.HOUGH_GRADIENT,1,250,\n",
        "                           param1=80,param2=30,minRadius=50,\n",
        "                           maxRadius=100)\n",
        "circles = np.uint16(np.around(circles))\n",
        "draw_iris = image.copy()\n",
        "for i in circles[0,:]:\n",
        "    print(i,i[0],i[1],i[2])\n",
        "    draw_iris = cv2.circle(draw_iris,(i[0],i[1]),i[2],(255,0,0),2)\n",
        "    draw_iris = cv2.circle(draw_iris,(i[0],i[1]),2,(255,0,0),3)\n",
        "draw_shift = draw.copy()    \n",
        "for i in circles[0,:]:       \n",
        "    print(i,i[0],i[1],i[2]) \n",
        "    mask = np.zeros_like(image)\n",
        "    mask = cv2.circle(mask, (x1,y1), i[2], (255,255,255), -1)\n",
        "    draw_shift = cv2.circle(draw_shift,(x1,y1),i[2],(255,0,0),2)\n",
        "    draw_shift = cv2.circle(draw_shift,(x1,y1),2,(255,0,0),3)  \n",
        "    draw_mask = cv2.bitwise_and(draw_shift, mask)\n"
      ],
      "metadata": {
        "colab": {
          "base_uri": "https://localhost:8080/"
        },
        "id": "gijhStp4CNr7",
        "outputId": "acf92cc5-8db7-4868-b0d5-1c8bba1f59e5"
      },
      "execution_count": 7,
      "outputs": [
        {
          "output_type": "stream",
          "name": "stdout",
          "text": [
            "[146 110  99] 146 110 99\n",
            "[146 110  99] 146 110 99\n"
          ]
        }
      ]
    },
    {
      "cell_type": "code",
      "source": [
        "\n",
        "plt.subplot(1,5,1)\n",
        "plt.imshow(img_histEqualization, cmap='gray') \n",
        "plt.subplot(1,5,2)          \n",
        "plt.imshow(draw)                              \n",
        "plt.subplot(1,5,3) \n",
        "plt.imshow(draw_iris)                        \n",
        "plt.subplot(1,5,4)\n",
        "plt.imshow(draw_shift)         \n",
        "plt.subplot(1,5,5)\n",
        "plt.imshow(draw_mask)                \n"
      ],
      "metadata": {
        "colab": {
          "base_uri": "https://localhost:8080/",
          "height": 119
        },
        "id": "Fw98BUq-COHG",
        "outputId": "0d5085a7-e80d-4c9f-a06b-d7333cfceb0d"
      },
      "execution_count": 8,
      "outputs": [
        {
          "output_type": "execute_result",
          "data": {
            "text/plain": [
              "<matplotlib.image.AxesImage at 0x7f3ab98dc590>"
            ]
          },
          "metadata": {},
          "execution_count": 8
        },
        {
          "output_type": "display_data",
          "data": {
            "image/png": "[encoded data removed]",
            "text/plain": [
              "<Figure size 432x288 with 5 Axes>"
            ]
          },
          "metadata": {
            "needs_background": "light"
          }
        }
      ]
    },
    {
      "cell_type": "code",
      "source": [
        "plt.subplot(1,3,1)\n",
        "plt.imshow(draw)\n",
        "plt.subplot(1,3,2)\n",
        "plt.imshow(draw_shift)\n",
        "plt.subplot(1,3,3)\n",
        "plt.imshow(draw_mask)"
      ],
      "metadata": {
        "colab": {
          "base_uri": "https://localhost:8080/",
          "height": 155
        },
        "id": "iKY9yYjGCKeJ",
        "outputId": "db97d7aa-919d-47e6-8f0a-3037ddc4c54b"
      },
      "execution_count": 9,
      "outputs": [
        {
          "output_type": "execute_result",
          "data": {
            "text/plain": [
              "<matplotlib.image.AxesImage at 0x7f3ab9356950>"
            ]
          },
          "metadata": {},
          "execution_count": 9
        },
        {
          "output_type": "display_data",
          "data": {
            "image/png": "[encoded data removed]",
            "text/plain": [
              "<Figure size 432x288 with 3 Axes>"
            ]
          },
          "metadata": {
            "needs_background": "light"
          }
        }
      ]
    },
    {
      "cell_type": "code",
      "source": [
        ""
      ],
      "metadata": {
        "id": "seEeRuH0CeBE"
      },
      "execution_count": null,
      "outputs": []
    }
  ]
}