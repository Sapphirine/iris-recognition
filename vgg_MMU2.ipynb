{
 "cells": [
  {
   "cell_type": "markdown",
   "metadata": {
    "id": "2f6db4d9"
   },
   "source": [
    "### Load Packages"
   ]
  },
  {
   "cell_type": "code",
   "execution_count": 3,
   "metadata": {
    "id": "819b5601"
   },
   "outputs": [],
   "source": [
    "import numpy as np\n",
    "import zipfile\n",
    "import matplotlib.pyplot as plt\n",
    "from PIL import Image\n",
    "import os\n",
    "import tensorflow as tf\n",
    "import cv2"
   ]
  },
  {
   "cell_type": "code",
   "execution_count": 4,
   "metadata": {
    "colab": {
     "base_uri": "https://localhost:8080/"
    },
    "id": "dUMr2C8YxFJt",
    "outputId": "6884ab99-6843-4f23-a1ed-bdaf55825aef"
   },
   "outputs": [
    {
     "name": "stdout",
     "output_type": "stream",
     "text": [
      "Drive already mounted at /content/drive; to attempt to forcibly remount, call drive.mount(\"/content/drive\", force_remount=True).\n"
     ]
    }
   ],
   "source": [
    "from google.colab import drive\n",
    "drive.mount('/content/drive')"
   ]
  },
  {
   "cell_type": "markdown",
   "metadata": {
    "id": "16085d4b"
   },
   "source": [
    "### Prepare Data for Training and Testing"
   ]
  },
  {
   "cell_type": "code",
   "execution_count": null,
   "metadata": {
    "id": "dQRr571QPHU4"
   },
   "outputs": [],
   "source": [
    "img"
   ]
  },
  {
   "cell_type": "code",
   "execution_count": 5,
   "metadata": {
    "id": "UjPCpvNa2-Pm"
   },
   "outputs": [],
   "source": [
    "# get the number of the image in the file.\n",
    "# there are 985 image in this file.\n",
    "directory_name = \"/content/drive/MyDrive/EECS-6893-Project/MMU2-Iris-Database\"\n",
    "x, y = np.zeros([1970, 224, 224, 3]), np.zeros([1970])\n",
    "from collections import defaultdict\n",
    "index = 0\n",
    "record = set()\n",
    "vis = defaultdict(int)\n",
    "n = 0\n",
    "count = 0\n",
    "for filename in os.listdir(directory_name):\n",
    "  image = Image.open(directory_name + '/' + filename)\n",
    "  checker = filename[:4]\n",
    "  if checker == '1000':\n",
    "    continue\n",
    "\n",
    "\n",
    "  if not checker in record:\n",
    "    record.add(checker)\n",
    "    n += 1\n",
    "  #print(directory_name + '/' + filename)\n",
    "  vis[str(checker)] += 1\n",
    "  image = image.resize((224,224))\n",
    "  image = np.asarray(image)\n",
    "  x[index,:,:,:] = image\n",
    "  y[index] = n\n",
    "\n",
    "  flip = np.flip(x[index],1)\n",
    "  flip = np.resize(flip, (1,224,224,3))\n",
    "  x[index+985,:,:,:] = flip\n",
    "  y[index+985] = n\n",
    "\n",
    "  index += 1"
   ]
  },
  {
   "cell_type": "code",
   "execution_count": 6,
   "metadata": {
    "colab": {
     "base_uri": "https://localhost:8080/"
    },
    "id": "gY3oi1Q5__VN",
    "outputId": "2798af13-8aa7-4864-c8f1-07e7e91dced4"
   },
   "outputs": [
    {
     "name": "stdout",
     "output_type": "stream",
     "text": [
      "1576 394\n"
     ]
    }
   ],
   "source": [
    "from sklearn.model_selection import train_test_split\n",
    "\n",
    "x_train, x_test, y_train, y_test = train_test_split(x, y, test_size=0.2)\n",
    "print(len(x_train), len(x_test))\n"
   ]
  },
  {
   "cell_type": "code",
   "execution_count": 7,
   "metadata": {
    "id": "eb9ae221"
   },
   "outputs": [],
   "source": [
    "index_train = np.random.permutation(len(x_train))\n",
    "index_test = np.random.permutation(len(x_test))\n",
    "x_train, y_train = x_train[index_train], y_train[index_train]\n",
    "x_test, y_test = x_test[index_test], y_test[index_test]"
   ]
  },
  {
   "cell_type": "code",
   "execution_count": 8,
   "metadata": {
    "id": "1e67f907"
   },
   "outputs": [],
   "source": [
    "x_train, x_test = tf.cast(x_train, tf.float32)/255.0, tf.cast(x_test, tf.float32)/255.0\n",
    "y_train, y_test = tf.one_hot(y_train, depth=197), tf.one_hot(y_test, depth=197)\n",
    "#y_train, y_test = tf.cast(y_train, tf.float32), tf.cast(y_test, tf.float32)"
   ]
  },
  {
   "cell_type": "markdown",
   "metadata": {
    "id": "a363a995"
   },
   "source": [
    "### Model Definition"
   ]
  },
  {
   "cell_type": "code",
   "execution_count": 2,
   "metadata": {
    "id": "7087c810"
   },
   "outputs": [],
   "source": [
    "from tensorflow.keras.applications.resnet50 import ResNet50, preprocess_input\n",
    "from tensorflow.keras import Model\n",
    "\n",
    "from tensorflow.keras.applications.vgg16 import VGG16\n",
    "from tensorflow.keras.layers import Flatten"
   ]
  },
  {
   "cell_type": "code",
   "execution_count": 9,
   "metadata": {
    "colab": {
     "base_uri": "https://localhost:8080/"
    },
    "id": "rgpHHkg5zhSL",
    "outputId": "75965dd4-ad17-4a31-cb47-0a27d5b2e992"
   },
   "outputs": [
    {
     "name": "stdout",
     "output_type": "stream",
     "text": [
      "Model: \"sequential\"\n",
      "_________________________________________________________________\n",
      " Layer (type)                Output Shape              Param #   \n",
      "=================================================================\n",
      " model (Functional)          (None, 2048)              23587712  \n",
      "                                                                 \n",
      " dense (Dense)               (None, 197)               403653    \n",
      "                                                                 \n",
      "=================================================================\n",
      "Total params: 23,991,365\n",
      "Trainable params: 403,653\n",
      "Non-trainable params: 23,587,712\n",
      "_________________________________________________________________\n"
     ]
    }
   ],
   "source": [
    "from tensorflow.keras.applications.resnet50 import ResNet50, preprocess_input\n",
    "from tensorflow.keras import Model\n",
    "\n",
    "from tensorflow.keras import Model\n",
    "pre_trained_model = ResNet50(input_shape=(224,224,3), weights='imagenet')\n",
    "ResNet = Model(inputs=pre_trained_model.input,outputs=pre_trained_model.layers[-2].output)\n",
    "#ResNet.summary()\n",
    "\n",
    "# First time, train without adjusting the ResNet weights to train the final dense layer first\n",
    "ResNet.trainable =  False\n",
    "model = tf.keras.Sequential([\n",
    "                             ResNet,\n",
    "                             tf.keras.layers.Dense(197, activation='softmax')\n",
    "                                      ])\n",
    "model.summary()"
   ]
  },
  {
   "cell_type": "markdown",
   "metadata": {
    "id": "6uuw9gv4K6D7"
   },
   "source": []
  },
  {
   "cell_type": "code",
   "execution_count": 10,
   "metadata": {
    "colab": {
     "base_uri": "https://localhost:8080/"
    },
    "id": "c732f945",
    "outputId": "4a3d5220-c8e6-42e3-805e-7341cefec403"
   },
   "outputs": [
    {
     "name": "stdout",
     "output_type": "stream",
     "text": [
      "Model: \"sequential_1\"\n",
      "_________________________________________________________________\n",
      " Layer (type)                Output Shape              Param #   \n",
      "=================================================================\n",
      " model_1 (Functional)        (None, 4096)              134260544 \n",
      "                                                                 \n",
      " dense_1 (Dense)             (None, 197)               807109    \n",
      "                                                                 \n",
      "=================================================================\n",
      "Total params: 135,067,653\n",
      "Trainable params: 807,109\n",
      "Non-trainable params: 134,260,544\n",
      "_________________________________________________________________\n"
     ]
    }
   ],
   "source": [
    "from tensorflow.keras import Model\n",
    "pre_trained_model = VGG16(input_shape=(224,224,3), weights='imagenet')\n",
    "vgg_model = Model(inputs=pre_trained_model.input,outputs=pre_trained_model.layers[-2].output)\n",
    "\n",
    "\n",
    "# First time, train without adjusting the ResNet weights to train the final dense layer first\n",
    "vgg_model.trainable =  False\n",
    "model = tf.keras.Sequential([\n",
    "                             vgg_model,\n",
    "                        \n",
    "                             tf.keras.layers.Dense(197, activation='softmax')\n",
    "                                      ])\n",
    "model.summary()"
   ]
  },
  {
   "cell_type": "code",
   "execution_count": 11,
   "metadata": {
    "id": "297bc7b4"
   },
   "outputs": [],
   "source": [
    "model.add_loss(lambda: 0.01*tf.reduce_sum(tf.square(model.layers[-1].kernel)))\n",
    "\n",
    "model.compile(optimizer=tf.keras.optimizers.Adam(0.0002),\n",
    "              loss=tf.keras.losses.CategoricalCrossentropy(from_logits=True), \n",
    "              metrics=tf.keras.metrics.CategoricalAccuracy())"
   ]
  },
  {
   "cell_type": "code",
   "execution_count": 12,
   "metadata": {
    "colab": {
     "base_uri": "https://localhost:8080/"
    },
    "id": "2050a407",
    "outputId": "afbc890b-ebe9-4214-ee6b-7c9f5cc6eda4"
   },
   "outputs": [
    {
     "name": "stderr",
     "output_type": "stream",
     "text": [
      "/usr/local/lib/python3.7/dist-packages/tensorflow/python/util/dispatch.py:1096: UserWarning: \"`categorical_crossentropy` received `from_logits=True`, but the `output` argument was produced by a sigmoid or softmax activation and thus does not represent logits. Was this intended?\"\n",
      "  return dispatch_target(*args, **kwargs)\n"
     ]
    },
    {
     "name": "stdout",
     "output_type": "stream",
     "text": [
      "53/53 [==============================] - 17s 122ms/step - loss: 8.8773 - categorical_accuracy: 0.0048 - val_loss: 8.0121 - val_categorical_accuracy: 0.0000e+00\n"
     ]
    },
    {
     "data": {
      "text/plain": [
       "<keras.callbacks.History at 0x7f18502f4290>"
      ]
     },
     "execution_count": 12,
     "metadata": {},
     "output_type": "execute_result"
    }
   ],
   "source": [
    "model.fit(x_train, y_train, batch_size=24, epochs=1, validation_split=0.2)"
   ]
  },
  {
   "cell_type": "code",
   "execution_count": 13,
   "metadata": {
    "colab": {
     "base_uri": "https://localhost:8080/"
    },
    "id": "f859b66e",
    "outputId": "ef6aac55-e5b7-4f3c-8439-3abd53148ee6"
   },
   "outputs": [
    {
     "name": "stdout",
     "output_type": "stream",
     "text": [
      "Epoch 1/10\n",
      "40/40 [==============================] - 19s 328ms/step - loss: 9.7217 - categorical_accuracy: 0.0040 - val_loss: 8.6285 - val_categorical_accuracy: 0.0000e+00\n",
      "Epoch 2/10\n",
      "40/40 [==============================] - 9s 237ms/step - loss: 7.9807 - categorical_accuracy: 0.0040 - val_loss: 7.4432 - val_categorical_accuracy: 0.0063\n",
      "Epoch 3/10\n",
      "40/40 [==============================] - 9s 237ms/step - loss: 6.9975 - categorical_accuracy: 0.0079 - val_loss: 6.6276 - val_categorical_accuracy: 0.0095\n",
      "Epoch 4/10\n",
      "40/40 [==============================] - 10s 239ms/step - loss: 6.2855 - categorical_accuracy: 0.0175 - val_loss: 6.0717 - val_categorical_accuracy: 0.0127\n",
      "Epoch 5/10\n",
      "40/40 [==============================] - 9s 237ms/step - loss: 5.3937 - categorical_accuracy: 0.0429 - val_loss: 5.1369 - val_categorical_accuracy: 0.0506\n",
      "Epoch 6/10\n",
      "40/40 [==============================] - 9s 237ms/step - loss: 4.4780 - categorical_accuracy: 0.1119 - val_loss: 4.1756 - val_categorical_accuracy: 0.1329\n",
      "Epoch 7/10\n",
      "40/40 [==============================] - 9s 236ms/step - loss: 3.4822 - categorical_accuracy: 0.2603 - val_loss: 3.5273 - val_categorical_accuracy: 0.2500\n",
      "Epoch 8/10\n",
      "40/40 [==============================] - 9s 236ms/step - loss: 2.7671 - categorical_accuracy: 0.3960 - val_loss: 3.1354 - val_categorical_accuracy: 0.3196\n",
      "Epoch 9/10\n",
      "40/40 [==============================] - 9s 237ms/step - loss: 2.0860 - categorical_accuracy: 0.5468 - val_loss: 2.5439 - val_categorical_accuracy: 0.4747\n",
      "Epoch 10/10\n",
      "40/40 [==============================] - 9s 237ms/step - loss: 1.7637 - categorical_accuracy: 0.6159 - val_loss: 2.4330 - val_categorical_accuracy: 0.5127\n"
     ]
    },
    {
     "data": {
      "text/plain": [
       "<keras.callbacks.History at 0x7f17e43b0a10>"
      ]
     },
     "execution_count": 13,
     "metadata": {},
     "output_type": "execute_result"
    }
   ],
   "source": [
    "vgg_model.trainable = True\n",
    "#ResNet.trainable =  True\n",
    "model.add_loss(lambda: 0.01*tf.reduce_sum(tf.square(model.layers[-1].kernel)))\n",
    "\n",
    "model.compile(optimizer=tf.keras.optimizers.Adam(0.0002),\n",
    "              loss=tf.keras.losses.CategoricalCrossentropy(from_logits=False), \n",
    "              metrics=tf.keras.metrics.CategoricalAccuracy())\n",
    "early_stop = tf.keras.callbacks.EarlyStopping(patience=0)\n",
    "model.fit(x_train, y_train, batch_size=32, epochs=10, validation_split=0.2)\n",
    "#model.fit(x_train, y_train, batch_size=32, epochs=40, validation_split=0.2, callbacks=[early_stop])"
   ]
  },
  {
   "cell_type": "code",
   "execution_count": 14,
   "metadata": {
    "colab": {
     "base_uri": "https://localhost:8080/"
    },
    "id": "hbANeyUt9JiQ",
    "outputId": "10c2c6c3-1523-478b-fc39-387fb9f704bb"
   },
   "outputs": [
    {
     "name": "stdout",
     "output_type": "stream",
     "text": [
      "Epoch 1/40\n",
      "40/40 [==============================] - 10s 241ms/step - loss: 1.5308 - categorical_accuracy: 0.6754 - val_loss: 2.2358 - val_categorical_accuracy: 0.5285\n",
      "Epoch 2/40\n",
      "40/40 [==============================] - 9s 237ms/step - loss: 1.5954 - categorical_accuracy: 0.7095 - val_loss: 3.0325 - val_categorical_accuracy: 0.4620\n"
     ]
    },
    {
     "data": {
      "text/plain": [
       "<keras.callbacks.History at 0x7f17e4066d10>"
      ]
     },
     "execution_count": 14,
     "metadata": {},
     "output_type": "execute_result"
    }
   ],
   "source": [
    "model.fit(x_train, y_train, batch_size=32, epochs=40, validation_split=0.2, callbacks=[early_stop])"
   ]
  },
  {
   "cell_type": "code",
   "execution_count": 20,
   "metadata": {
    "colab": {
     "base_uri": "https://localhost:8080/"
    },
    "id": "JH9gZFbs60sx",
    "outputId": "02387f77-ca60-4c1f-9086-cedecea47be5"
   },
   "outputs": [
    {
     "name": "stdout",
     "output_type": "stream",
     "text": [
      "Epoch 1/20\n",
      "40/40 [==============================] - 10s 243ms/step - loss: 2.3999 - categorical_accuracy: 0.4540 - val_loss: 3.6332 - val_categorical_accuracy: 0.3418\n",
      "Epoch 2/20\n",
      "40/40 [==============================] - 9s 236ms/step - loss: 2.1366 - categorical_accuracy: 0.5270 - val_loss: 4.5778 - val_categorical_accuracy: 0.3291\n",
      "Epoch 3/20\n",
      "40/40 [==============================] - 9s 236ms/step - loss: 2.9070 - categorical_accuracy: 0.3913 - val_loss: 3.4995 - val_categorical_accuracy: 0.3861\n",
      "Epoch 4/20\n",
      "40/40 [==============================] - 9s 235ms/step - loss: 4.0472 - categorical_accuracy: 0.3357 - val_loss: 4.6985 - val_categorical_accuracy: 0.1614\n",
      "Epoch 5/20\n",
      "40/40 [==============================] - 10s 238ms/step - loss: 4.9415 - categorical_accuracy: 0.3286 - val_loss: 9.3417 - val_categorical_accuracy: 0.0538\n",
      "Epoch 6/20\n",
      "40/40 [==============================] - 9s 235ms/step - loss: 5.4084 - categorical_accuracy: 0.0516 - val_loss: 4.6971 - val_categorical_accuracy: 0.0633\n",
      "Epoch 7/20\n",
      "40/40 [==============================] - 9s 235ms/step - loss: 4.0731 - categorical_accuracy: 0.1540 - val_loss: 3.9260 - val_categorical_accuracy: 0.1867\n",
      "Epoch 8/20\n",
      "40/40 [==============================] - 9s 235ms/step - loss: 3.2051 - categorical_accuracy: 0.3127 - val_loss: 3.5940 - val_categorical_accuracy: 0.2975\n",
      "Epoch 9/20\n",
      "40/40 [==============================] - 9s 235ms/step - loss: 2.5724 - categorical_accuracy: 0.4349 - val_loss: 3.0444 - val_categorical_accuracy: 0.4367\n",
      "Epoch 10/20\n",
      "40/40 [==============================] - 9s 236ms/step - loss: 2.0079 - categorical_accuracy: 0.5897 - val_loss: 2.8621 - val_categorical_accuracy: 0.5000\n",
      "Epoch 11/20\n",
      "40/40 [==============================] - 9s 236ms/step - loss: 12.0050 - categorical_accuracy: 0.3603 - val_loss: 6.5726 - val_categorical_accuracy: 0.0032\n",
      "Epoch 12/20\n",
      "40/40 [==============================] - 9s 235ms/step - loss: 20.9347 - categorical_accuracy: 0.0048 - val_loss: 5.7063 - val_categorical_accuracy: 0.0063\n",
      "Epoch 13/20\n",
      "40/40 [==============================] - 9s 234ms/step - loss: 5.8182 - categorical_accuracy: 0.0056 - val_loss: 5.7007 - val_categorical_accuracy: 0.0032\n",
      "Epoch 14/20\n",
      "40/40 [==============================] - 9s 235ms/step - loss: 5.7169 - categorical_accuracy: 0.0071 - val_loss: 5.6892 - val_categorical_accuracy: 0.0032\n",
      "Epoch 15/20\n",
      "40/40 [==============================] - 9s 235ms/step - loss: 5.7016 - categorical_accuracy: 0.0040 - val_loss: 5.6826 - val_categorical_accuracy: 0.0032\n",
      "Epoch 16/20\n",
      "40/40 [==============================] - 9s 235ms/step - loss: 5.6965 - categorical_accuracy: 0.0056 - val_loss: 5.6750 - val_categorical_accuracy: 0.0032\n",
      "Epoch 17/20\n",
      "40/40 [==============================] - 9s 235ms/step - loss: 5.6884 - categorical_accuracy: 0.0024 - val_loss: 5.6676 - val_categorical_accuracy: 0.0032\n",
      "Epoch 18/20\n",
      "40/40 [==============================] - 9s 236ms/step - loss: 5.6805 - categorical_accuracy: 0.0056 - val_loss: 5.6604 - val_categorical_accuracy: 0.0032\n",
      "Epoch 19/20\n",
      "40/40 [==============================] - 9s 236ms/step - loss: 5.6730 - categorical_accuracy: 0.0048 - val_loss: 5.6535 - val_categorical_accuracy: 0.0000e+00\n",
      "Epoch 20/20\n",
      "40/40 [==============================] - 9s 235ms/step - loss: 5.6656 - categorical_accuracy: 0.0071 - val_loss: 5.6468 - val_categorical_accuracy: 0.0000e+00\n"
     ]
    },
    {
     "data": {
      "text/plain": [
       "<keras.callbacks.History at 0x7fc45bf577d0>"
      ]
     },
     "execution_count": 20,
     "metadata": {},
     "output_type": "execute_result"
    }
   ],
   "source": [
    "model.fit(x_train, y_train, batch_size=32, epochs=20, validation_split=0.2)"
   ]
  },
  {
   "cell_type": "code",
   "execution_count": 15,
   "metadata": {
    "colab": {
     "base_uri": "https://localhost:8080/"
    },
    "id": "8b0068e0",
    "outputId": "f9a3eadc-5e20-4189-e465-d8bab7bf2ab2"
   },
   "outputs": [
    {
     "name": "stdout",
     "output_type": "stream",
     "text": [
      "13/13 [==============================] - 2s 156ms/step - loss: 2.6585 - categorical_accuracy: 0.5051\n"
     ]
    },
    {
     "data": {
      "text/plain": [
       "[2.658524751663208, 0.5050761699676514]"
      ]
     },
     "execution_count": 15,
     "metadata": {},
     "output_type": "execute_result"
    }
   ],
   "source": [
    "model.evaluate(x_test, y_test)"
   ]
  },
  {
   "cell_type": "code",
   "execution_count": null,
   "metadata": {
    "id": "e-fmF5RL_xqv"
   },
   "outputs": [],
   "source": [
    "model.save_weights('./MMU2-Iris-Database-weights')"
   ]
  },
  {
   "cell_type": "code",
   "execution_count": null,
   "metadata": {
    "id": "326cfa4a",
    "outputId": "ec662a37-ca21-42fc-b153-dd8dce6e7ca6"
   },
   "outputs": [
    {
     "data": {
      "text/plain": [
       "array([[1.61365833e-07, 6.09797510e-08, 5.37834559e-08, ...,\n",
       "        4.74314021e-07, 1.05221375e-07, 4.89214749e-08],\n",
       "       [3.40944234e-06, 1.86130399e-06, 1.26375733e-06, ...,\n",
       "        1.35170058e-06, 1.77589084e-06, 9.16988938e-07],\n",
       "       [1.81382961e-06, 5.46695310e-06, 1.38406153e-06, ...,\n",
       "        1.03409832e-06, 3.44551372e-05, 2.01978878e-06],\n",
       "       ...,\n",
       "       [1.01617388e-06, 7.90173829e-07, 1.37897507e-06, ...,\n",
       "        7.09842993e-07, 5.53538166e-06, 5.27412340e-07],\n",
       "       [2.24078303e-08, 3.71270801e-08, 3.48713449e-08, ...,\n",
       "        2.77382071e-07, 2.02812870e-07, 3.27055325e-08],\n",
       "       [1.94871654e-06, 7.16348723e-07, 4.42797585e-07, ...,\n",
       "        2.34162982e-07, 5.90340790e-07, 4.58690153e-07]], dtype=float32)"
      ]
     },
     "execution_count": 30,
     "metadata": {},
     "output_type": "execute_result"
    }
   ],
   "source": []
  },
  {
   "cell_type": "code",
   "execution_count": null,
   "metadata": {
    "id": "466cdb9e",
    "outputId": "1ee3d51a-d784-4bdd-9a4f-0da08f8d8ffc"
   },
   "outputs": [
    {
     "data": {
      "text/plain": [
       "1.0"
      ]
     },
     "execution_count": 33,
     "metadata": {},
     "output_type": "execute_result"
    }
   ],
   "source": [
    "np.mean(np.argmax(y_test, axis=1)==np.argmax(pred, axis=1))"
   ]
  }
 ],
 "metadata": {
  "accelerator": "GPU",
  "colab": {
   "collapsed_sections": [],
   "name": "Progress.ipynb",
   "provenance": []
  },
  "kernelspec": {
   "display_name": "Python 3",
   "language": "python",
   "name": "python3"
  },
  "language_info": {
   "codemirror_mode": {
    "name": "ipython",
    "version": 3
   },
   "file_extension": ".py",
   "mimetype": "text/x-python",
   "name": "python",
   "nbconvert_exporter": "python",
   "pygments_lexer": "ipython3",
   "version": "3.8.3"
  }
 },
 "nbformat": 4,
 "nbformat_minor": 5
}
