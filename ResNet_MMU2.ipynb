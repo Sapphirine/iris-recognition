{
 "cells": [
  {
   "cell_type": "markdown",
   "metadata": {
    "id": "2f6db4d9"
   },
   "source": [
    "### Load Packages"
   ]
  },
  {
   "cell_type": "code",
   "execution_count": 1,
   "metadata": {
    "id": "819b5601"
   },
   "outputs": [],
   "source": [
    "import numpy as np\n",
    "import zipfile\n",
    "import matplotlib.pyplot as plt\n",
    "from PIL import Image\n",
    "import os\n",
    "import tensorflow as tf\n",
    "import cv2"
   ]
  },
  {
   "cell_type": "code",
   "execution_count": 2,
   "metadata": {
    "colab": {
     "base_uri": "https://localhost:8080/"
    },
    "id": "dUMr2C8YxFJt",
    "outputId": "9cef8f9e-9c83-42ff-805c-d6322d28803a"
   },
   "outputs": [
    {
     "name": "stdout",
     "output_type": "stream",
     "text": [
      "Mounted at /content/drive\n"
     ]
    }
   ],
   "source": [
    "from google.colab import drive\n",
    "drive.mount('/content/drive')"
   ]
  },
  {
   "cell_type": "markdown",
   "metadata": {
    "id": "16085d4b"
   },
   "source": [
    "### Prepare Data for Training and Testing"
   ]
  },
  {
   "cell_type": "code",
   "execution_count": null,
   "metadata": {
    "id": "dQRr571QPHU4"
   },
   "outputs": [],
   "source": [
    "img"
   ]
  },
  {
   "cell_type": "code",
   "execution_count": 3,
   "metadata": {
    "id": "UjPCpvNa2-Pm"
   },
   "outputs": [],
   "source": [
    "# get the number of the image in the file.\n",
    "# there are 985 image in this file.\n",
    "directory_name = \"/content/drive/MyDrive/EECS-6893-Project/MMU2-Iris-Database\"\n",
    "x, y = np.zeros([1970, 224, 224, 3]), np.zeros([1970])\n",
    "from collections import defaultdict\n",
    "index = 0\n",
    "record = set()\n",
    "vis = defaultdict(int)\n",
    "n = 0\n",
    "count = 0\n",
    "for filename in os.listdir(directory_name):\n",
    "  image = Image.open(directory_name + '/' + filename)\n",
    "  checker = filename[:4]\n",
    "  if checker == '1000':\n",
    "    continue\n",
    "\n",
    "\n",
    "  if not checker in record:\n",
    "    record.add(checker)\n",
    "    n += 1\n",
    "  #print(directory_name + '/' + filename)\n",
    "  vis[str(checker)] += 1\n",
    "  image = image.resize((224,224))\n",
    "  image = np.asarray(image)\n",
    "  x[index,:,:,:] = image\n",
    "  y[index] = n\n",
    "\n",
    "  flip = np.flip(x[index],1)\n",
    "  flip = np.resize(flip, (1,224,224,3))\n",
    "  x[index+985,:,:,:] = flip\n",
    "  y[index+985] = n\n",
    "\n",
    "  index += 1"
   ]
  },
  {
   "cell_type": "code",
   "execution_count": 4,
   "metadata": {
    "colab": {
     "base_uri": "https://localhost:8080/"
    },
    "id": "gY3oi1Q5__VN",
    "outputId": "ca01f013-d449-471e-dae3-40bdb97a3011"
   },
   "outputs": [
    {
     "name": "stdout",
     "output_type": "stream",
     "text": [
      "1576 394\n"
     ]
    }
   ],
   "source": [
    "from sklearn.model_selection import train_test_split\n",
    "\n",
    "x_train, x_test, y_train, y_test = train_test_split(x, y, test_size=0.2)\n",
    "print(len(x_train), len(x_test))\n"
   ]
  },
  {
   "cell_type": "code",
   "execution_count": 5,
   "metadata": {
    "id": "eb9ae221"
   },
   "outputs": [],
   "source": [
    "index_train = np.random.permutation(len(x_train))\n",
    "index_test = np.random.permutation(len(x_test))\n",
    "x_train, y_train = x_train[index_train], y_train[index_train]\n",
    "x_test, y_test = x_test[index_test], y_test[index_test]"
   ]
  },
  {
   "cell_type": "code",
   "execution_count": 6,
   "metadata": {
    "id": "1e67f907"
   },
   "outputs": [],
   "source": [
    "x_train, x_test = tf.cast(x_train, tf.float32)/255.0, tf.cast(x_test, tf.float32)/255.0\n",
    "y_train, y_test = tf.one_hot(y_train, depth=197), tf.one_hot(y_test, depth=197)\n",
    "#y_train, y_test = tf.cast(y_train, tf.float32), tf.cast(y_test, tf.float32)"
   ]
  },
  {
   "cell_type": "markdown",
   "metadata": {
    "id": "a363a995"
   },
   "source": [
    "### Model Definition"
   ]
  },
  {
   "cell_type": "code",
   "execution_count": 7,
   "metadata": {
    "id": "7087c810"
   },
   "outputs": [],
   "source": [
    "from tensorflow.keras.applications.resnet50 import ResNet50, preprocess_input\n",
    "from tensorflow.keras import Model\n",
    "\n",
    "from tensorflow.keras.applications.vgg16 import VGG16\n",
    "from tensorflow.keras.layers import Flatten"
   ]
  },
  {
   "cell_type": "code",
   "execution_count": 8,
   "metadata": {
    "colab": {
     "base_uri": "https://localhost:8080/"
    },
    "id": "rgpHHkg5zhSL",
    "outputId": "1200f764-38aa-422b-87ad-cb393e917f5d"
   },
   "outputs": [
    {
     "name": "stdout",
     "output_type": "stream",
     "text": [
      "Downloading data from https://storage.googleapis.com/tensorflow/keras-applications/resnet/resnet50_weights_tf_dim_ordering_tf_kernels.h5\n",
      "102973440/102967424 [==============================] - 3s 0us/step\n",
      "102981632/102967424 [==============================] - 3s 0us/step\n",
      "Model: \"sequential\"\n",
      "_________________________________________________________________\n",
      " Layer (type)                Output Shape              Param #   \n",
      "=================================================================\n",
      " model (Functional)          (None, 2048)              23587712  \n",
      "                                                                 \n",
      " dense (Dense)               (None, 197)               403653    \n",
      "                                                                 \n",
      "=================================================================\n",
      "Total params: 23,991,365\n",
      "Trainable params: 403,653\n",
      "Non-trainable params: 23,587,712\n",
      "_________________________________________________________________\n"
     ]
    }
   ],
   "source": [
    "from tensorflow.keras.applications.resnet50 import ResNet50, preprocess_input\n",
    "from tensorflow.keras import Model\n",
    "\n",
    "from tensorflow.keras import Model\n",
    "pre_trained_model = ResNet50(input_shape=(224,224,3), weights='imagenet')\n",
    "ResNet = Model(inputs=pre_trained_model.input,outputs=pre_trained_model.layers[-2].output)\n",
    "#ResNet.summary()\n",
    "\n",
    "# First time, train without adjusting the ResNet weights to train the final dense layer first\n",
    "ResNet.trainable =  False\n",
    "model = tf.keras.Sequential([\n",
    "                             ResNet,\n",
    "                             tf.keras.layers.Dense(197, activation='softmax')\n",
    "                                      ])\n",
    "model.summary()"
   ]
  },
  {
   "cell_type": "markdown",
   "metadata": {
    "id": "6uuw9gv4K6D7"
   },
   "source": []
  },
  {
   "cell_type": "code",
   "execution_count": null,
   "metadata": {
    "colab": {
     "base_uri": "https://localhost:8080/"
    },
    "id": "c732f945",
    "outputId": "5fc9d0bb-a07f-4eac-e8dc-f1f772964152"
   },
   "outputs": [
    {
     "name": "stdout",
     "output_type": "stream",
     "text": [
      "Downloading data from https://storage.googleapis.com/tensorflow/keras-applications/vgg16/vgg16_weights_tf_dim_ordering_tf_kernels.h5\n",
      "553467904/553467096 [==============================] - 11s 0us/step\n",
      "553476096/553467096 [==============================] - 11s 0us/step\n",
      "Model: \"sequential_1\"\n",
      "_________________________________________________________________\n",
      " Layer (type)                Output Shape              Param #   \n",
      "=================================================================\n",
      " model_1 (Functional)        (None, 4096)              134260544 \n",
      "                                                                 \n",
      " flatten (Flatten)           (None, 4096)              0         \n",
      "                                                                 \n",
      " dense_1 (Dense)             (None, 512)               2097664   \n",
      "                                                                 \n",
      " dense_2 (Dense)             (None, 197)               101061    \n",
      "                                                                 \n",
      "=================================================================\n",
      "Total params: 136,459,269\n",
      "Trainable params: 2,198,725\n",
      "Non-trainable params: 134,260,544\n",
      "_________________________________________________________________\n"
     ]
    }
   ],
   "source": [
    "from tensorflow.keras import Model\n",
    "pre_trained_model = VGG16(input_shape=(224,224,3), weights='imagenet')\n",
    "vgg_model = Model(inputs=pre_trained_model.input,outputs=pre_trained_model.layers[-2].output)\n",
    "\n",
    "\n",
    "# First time, train without adjusting the ResNet weights to train the final dense layer first\n",
    "vgg_model.trainable =  False\n",
    "model = tf.keras.Sequential([\n",
    "                             vgg_model,\n",
    "                             Flatten(),\n",
    "                             tf.keras.layers.Dense(512, activation='relu'),\n",
    "                             tf.keras.layers.Dense(197, activation='softmax')\n",
    "                                      ])\n",
    "model.summary()"
   ]
  },
  {
   "cell_type": "code",
   "execution_count": 9,
   "metadata": {
    "id": "297bc7b4"
   },
   "outputs": [],
   "source": [
    "model.add_loss(lambda: 0.01*tf.reduce_sum(tf.square(model.layers[-1].kernel)))\n",
    "\n",
    "model.compile(optimizer=tf.keras.optimizers.Adam(0.0002),\n",
    "              loss=tf.keras.losses.CategoricalCrossentropy(from_logits=True), \n",
    "              metrics=tf.keras.metrics.CategoricalAccuracy())"
   ]
  },
  {
   "cell_type": "code",
   "execution_count": 10,
   "metadata": {
    "colab": {
     "base_uri": "https://localhost:8080/"
    },
    "id": "2050a407",
    "outputId": "411aed3b-6399-429b-f781-af88658bcca6"
   },
   "outputs": [
    {
     "name": "stderr",
     "output_type": "stream",
     "text": [
      "/usr/local/lib/python3.7/dist-packages/tensorflow/python/util/dispatch.py:1096: UserWarning: \"`categorical_crossentropy` received `from_logits=True`, but the `output` argument was produced by a sigmoid or softmax activation and thus does not represent logits. Was this intended?\"\n",
      "  return dispatch_target(*args, **kwargs)\n"
     ]
    },
    {
     "name": "stdout",
     "output_type": "stream",
     "text": [
      "53/53 [==============================] - 20s 126ms/step - loss: 8.2609 - categorical_accuracy: 0.0040 - val_loss: 7.4678 - val_categorical_accuracy: 0.0063\n"
     ]
    },
    {
     "data": {
      "text/plain": [
       "<keras.callbacks.History at 0x7fc6d4e34550>"
      ]
     },
     "execution_count": 10,
     "metadata": {},
     "output_type": "execute_result"
    }
   ],
   "source": [
    "model.fit(x_train, y_train, batch_size=24, epochs=1, validation_split=0.2)"
   ]
  },
  {
   "cell_type": "code",
   "execution_count": 13,
   "metadata": {
    "colab": {
     "base_uri": "https://localhost:8080/"
    },
    "id": "f859b66e",
    "outputId": "f9bd96d2-68dc-4f94-d444-ac1542128066"
   },
   "outputs": [
    {
     "name": "stdout",
     "output_type": "stream",
     "text": [
      "Epoch 1/20\n",
      "40/40 [==============================] - 16s 227ms/step - loss: 0.5883 - categorical_accuracy: 0.9857 - val_loss: 5.0027 - val_categorical_accuracy: 0.0348\n",
      "Epoch 2/20\n",
      "40/40 [==============================] - 7s 187ms/step - loss: 0.4444 - categorical_accuracy: 0.9921 - val_loss: 4.5780 - val_categorical_accuracy: 0.1013\n",
      "Epoch 3/20\n",
      "40/40 [==============================] - 8s 189ms/step - loss: 0.3974 - categorical_accuracy: 0.9881 - val_loss: 4.0307 - val_categorical_accuracy: 0.1899\n",
      "Epoch 4/20\n",
      "40/40 [==============================] - 7s 187ms/step - loss: 0.3691 - categorical_accuracy: 0.9944 - val_loss: 2.8895 - val_categorical_accuracy: 0.5032\n",
      "Epoch 5/20\n",
      "40/40 [==============================] - 7s 187ms/step - loss: 0.3660 - categorical_accuracy: 0.9921 - val_loss: 2.8251 - val_categorical_accuracy: 0.5127\n",
      "Epoch 6/20\n",
      "40/40 [==============================] - 8s 188ms/step - loss: 0.3896 - categorical_accuracy: 0.9905 - val_loss: 2.6148 - val_categorical_accuracy: 0.5032\n",
      "Epoch 7/20\n",
      "40/40 [==============================] - 7s 187ms/step - loss: 0.3916 - categorical_accuracy: 0.9921 - val_loss: 1.4223 - val_categorical_accuracy: 0.8165\n",
      "Epoch 8/20\n",
      "40/40 [==============================] - 7s 188ms/step - loss: 0.4541 - categorical_accuracy: 0.9873 - val_loss: 44.2415 - val_categorical_accuracy: 0.0253\n",
      "Epoch 9/20\n",
      "40/40 [==============================] - 7s 187ms/step - loss: 0.5016 - categorical_accuracy: 0.9841 - val_loss: 2.9426 - val_categorical_accuracy: 0.5285\n",
      "Epoch 10/20\n",
      "40/40 [==============================] - 7s 187ms/step - loss: 0.5154 - categorical_accuracy: 0.9857 - val_loss: 1.7196 - val_categorical_accuracy: 0.6772\n",
      "Epoch 11/20\n",
      "40/40 [==============================] - 8s 188ms/step - loss: 0.5131 - categorical_accuracy: 0.9841 - val_loss: 1.4554 - val_categorical_accuracy: 0.7532\n",
      "Epoch 12/20\n",
      "40/40 [==============================] - 7s 188ms/step - loss: 0.5654 - categorical_accuracy: 0.9746 - val_loss: 5.4365 - val_categorical_accuracy: 0.1772\n",
      "Epoch 13/20\n",
      "40/40 [==============================] - 8s 189ms/step - loss: 0.5844 - categorical_accuracy: 0.9802 - val_loss: 3.8724 - val_categorical_accuracy: 0.4146\n",
      "Epoch 14/20\n",
      "40/40 [==============================] - 8s 188ms/step - loss: 0.5380 - categorical_accuracy: 0.9873 - val_loss: 1.5616 - val_categorical_accuracy: 0.7753\n",
      "Epoch 15/20\n",
      "40/40 [==============================] - 7s 187ms/step - loss: 0.5566 - categorical_accuracy: 0.9881 - val_loss: 2.1035 - val_categorical_accuracy: 0.6361\n",
      "Epoch 16/20\n",
      "40/40 [==============================] - 7s 187ms/step - loss: 0.5369 - categorical_accuracy: 0.9913 - val_loss: 1.0780 - val_categorical_accuracy: 0.8956\n",
      "Epoch 17/20\n",
      "40/40 [==============================] - 7s 187ms/step - loss: 0.5508 - categorical_accuracy: 0.9913 - val_loss: 0.6641 - val_categorical_accuracy: 0.9684\n",
      "Epoch 18/20\n",
      "40/40 [==============================] - 7s 187ms/step - loss: 0.5812 - categorical_accuracy: 0.9921 - val_loss: 0.7585 - val_categorical_accuracy: 0.9652\n",
      "Epoch 19/20\n",
      "40/40 [==============================] - 7s 187ms/step - loss: 0.5810 - categorical_accuracy: 0.9944 - val_loss: 0.6520 - val_categorical_accuracy: 0.9778\n",
      "Epoch 20/20\n",
      "40/40 [==============================] - 7s 186ms/step - loss: 0.6334 - categorical_accuracy: 0.9944 - val_loss: 0.6937 - val_categorical_accuracy: 0.9778\n"
     ]
    },
    {
     "data": {
      "text/plain": [
       "<keras.callbacks.History at 0x7fc6d491b290>"
      ]
     },
     "execution_count": 13,
     "metadata": {},
     "output_type": "execute_result"
    }
   ],
   "source": [
    "#vgg_model.trainable = True\n",
    "ResNet.trainable =  True\n",
    "model.add_loss(lambda: 0.01*tf.reduce_sum(tf.square(model.layers[-1].kernel)))\n",
    "\n",
    "model.compile(optimizer=tf.keras.optimizers.Adam(0.0002),\n",
    "              loss=tf.keras.losses.CategoricalCrossentropy(from_logits=False), \n",
    "              metrics=tf.keras.metrics.CategoricalAccuracy())\n",
    "\n",
    "model.fit(x_train, y_train, batch_size=32, epochs=20, validation_split=0.2)"
   ]
  },
  {
   "cell_type": "code",
   "execution_count": 14,
   "metadata": {
    "colab": {
     "base_uri": "https://localhost:8080/"
    },
    "id": "8b0068e0",
    "outputId": "0b3c50f0-8c16-4178-ac97-9533f4b85710"
   },
   "outputs": [
    {
     "name": "stdout",
     "output_type": "stream",
     "text": [
      "13/13 [==============================] - 1s 60ms/step - loss: 0.6924 - categorical_accuracy: 0.9873\n"
     ]
    },
    {
     "data": {
      "text/plain": [
       "[0.6924493312835693, 0.9873096346855164]"
      ]
     },
     "execution_count": 14,
     "metadata": {},
     "output_type": "execute_result"
    }
   ],
   "source": [
    "model.evaluate(x_test, y_test)"
   ]
  },
  {
   "cell_type": "code",
   "execution_count": null,
   "metadata": {
    "id": "e-fmF5RL_xqv"
   },
   "outputs": [],
   "source": [
    "model.save_weights('./MMU2-Iris-Database-weights')"
   ]
  },
  {
   "cell_type": "code",
   "execution_count": null,
   "metadata": {
    "id": "326cfa4a",
    "outputId": "ec662a37-ca21-42fc-b153-dd8dce6e7ca6"
   },
   "outputs": [
    {
     "data": {
      "text/plain": [
       "array([[1.61365833e-07, 6.09797510e-08, 5.37834559e-08, ...,\n",
       "        4.74314021e-07, 1.05221375e-07, 4.89214749e-08],\n",
       "       [3.40944234e-06, 1.86130399e-06, 1.26375733e-06, ...,\n",
       "        1.35170058e-06, 1.77589084e-06, 9.16988938e-07],\n",
       "       [1.81382961e-06, 5.46695310e-06, 1.38406153e-06, ...,\n",
       "        1.03409832e-06, 3.44551372e-05, 2.01978878e-06],\n",
       "       ...,\n",
       "       [1.01617388e-06, 7.90173829e-07, 1.37897507e-06, ...,\n",
       "        7.09842993e-07, 5.53538166e-06, 5.27412340e-07],\n",
       "       [2.24078303e-08, 3.71270801e-08, 3.48713449e-08, ...,\n",
       "        2.77382071e-07, 2.02812870e-07, 3.27055325e-08],\n",
       "       [1.94871654e-06, 7.16348723e-07, 4.42797585e-07, ...,\n",
       "        2.34162982e-07, 5.90340790e-07, 4.58690153e-07]], dtype=float32)"
      ]
     },
     "execution_count": 30,
     "metadata": {},
     "output_type": "execute_result"
    }
   ],
   "source": []
  },
  {
   "cell_type": "code",
   "execution_count": null,
   "metadata": {
    "id": "466cdb9e",
    "outputId": "1ee3d51a-d784-4bdd-9a4f-0da08f8d8ffc"
   },
   "outputs": [
    {
     "data": {
      "text/plain": [
       "1.0"
      ]
     },
     "execution_count": 33,
     "metadata": {},
     "output_type": "execute_result"
    }
   ],
   "source": [
    "np.mean(np.argmax(y_test, axis=1)==np.argmax(pred, axis=1))"
   ]
  }
 ],
 "metadata": {
  "accelerator": "GPU",
  "colab": {
   "collapsed_sections": [],
   "name": "Progress.ipynb",
   "provenance": []
  },
  "kernelspec": {
   "display_name": "Python 3",
   "language": "python",
   "name": "python3"
  },
  "language_info": {
   "codemirror_mode": {
    "name": "ipython",
    "version": 3
   },
   "file_extension": ".py",
   "mimetype": "text/x-python",
   "name": "python",
   "nbconvert_exporter": "python",
   "pygments_lexer": "ipython3",
   "version": "3.8.3"
  }
 },
 "nbformat": 4,
 "nbformat_minor": 5
}
