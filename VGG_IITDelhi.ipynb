{
 "cells": [
  {
   "cell_type": "code",
   "execution_count": 1,
   "id": "f3196248",
   "metadata": {},
   "outputs": [],
   "source": [
    "import numpy as np\n",
    "import zipfile\n",
    "import matplotlib.pyplot as plt\n",
    "from PIL import Image\n",
    "import os\n",
    "import tensorflow as tf\n",
    "\n",
    "x_train, y_train = np.zeros([2688, 224, 224,3]), np.zeros([2688])\n",
    "x_test, y_test = np.zeros([896, 224, 224,3]), np.zeros([896])\n",
    "\n",
    "folder = \"IITD_database/people\"\n",
    "i = 0\n",
    "for people in range(1,225):\n",
    "    person_folder = folder + \"/\" + \"0\"*(3-len(str(people))) + str(people)\n",
    "    file_names = os.listdir(person_folder)\n",
    "    for num_image in range(1,7):\n",
    "        path = person_folder + \"/\" + file_names[num_image-1]\n",
    "        image = Image.open(path)\n",
    "        image = image.resize((224,224))\n",
    "        image = np.asarray(image)\n",
    "        #x = image.reshape((1,224,224,3))\n",
    "        row_num = i*6 + num_image -1\n",
    "        x_train[row_num,:,:,:] = image\n",
    "        y_train[row_num] = people\n",
    "        \n",
    "        flip = np.flip(x_train[i],1)\n",
    "        flip = np.resize(flip, (1,224,224,3))\n",
    "        x_train[row_num+1344,:,:,:] = flip\n",
    "        y_train[row_num+1344] = people\n",
    "    i += 1\n",
    "    \n",
    "i = 0\n",
    "for people in range(1,225):\n",
    "    person_folder = folder + \"/\" + \"0\"*(3-len(str(people))) + str(people)\n",
    "    file_names = os.listdir(person_folder)\n",
    "    for num_image in range(7,11):\n",
    "        path = person_folder + \"/\" + file_names[num_image-1]\n",
    "        image = Image.open(path)\n",
    "        image = image.resize((224,224))\n",
    "        image = np.asarray(image)\n",
    "        #x = image.reshape((1,224,224,3))\n",
    "        row_num = i*4 + num_image -7\n",
    "        x_test[row_num,:,:,:] = image\n",
    "        y_test[row_num] = people\n",
    "    i += 1\n",
    "    \n",
    "x_train.shape, y_train.shape, x_test.shape, y_test.shape\n",
    "\n",
    "index_train = np.random.permutation(2688)\n",
    "index_test = np.random.permutation(896)\n",
    "x_train, y_train = x_train[index_train], y_train[index_train]\n",
    "x_test, y_test = x_test[index_test], y_test[index_test]\n",
    "\n",
    "x_train, x_test = tf.cast(x_train, tf.float32)/255.0, tf.cast(x_test, tf.float32)/255.0\n",
    "y_train, y_test = tf.one_hot(y_train-1, depth=224), tf.one_hot(y_test-1, depth=224)"
   ]
  },
  {
   "cell_type": "code",
   "execution_count": 7,
   "id": "5a545b45",
   "metadata": {},
   "outputs": [
    {
     "name": "stdout",
     "output_type": "stream",
     "text": [
      "Model: \"sequential_2\"\n",
      "_________________________________________________________________\n",
      "Layer (type)                 Output Shape              Param #   \n",
      "=================================================================\n",
      "model_2 (Functional)         (None, 4096)              134260544 \n",
      "_________________________________________________________________\n",
      "flatten_2 (Flatten)          (None, 4096)              0         \n",
      "_________________________________________________________________\n",
      "dense_4 (Dense)              (None, 512)               2097664   \n",
      "_________________________________________________________________\n",
      "dense_5 (Dense)              (None, 224)               114912    \n",
      "=================================================================\n",
      "Total params: 136,473,120\n",
      "Trainable params: 2,212,576\n",
      "Non-trainable params: 134,260,544\n",
      "_________________________________________________________________\n"
     ]
    }
   ],
   "source": [
    "from tensorflow.keras.applications.resnet50 import ResNet50, preprocess_input\n",
    "from tensorflow.keras import Model\n",
    "\n",
    "from tensorflow.keras.applications.vgg16 import VGG16\n",
    "from tensorflow.keras.layers import Flatten\n",
    "\n",
    "from tensorflow.keras import Model\n",
    "pre_trained_model = VGG16(input_shape=(224,224,3), weights='imagenet')\n",
    "vgg_model = Model(inputs=pre_trained_model.input,outputs=pre_trained_model.layers[-2].output)\n",
    "\n",
    "\n",
    "# First time, train without adjusting the ResNet weights to train the final dense layer first\n",
    "vgg_model.trainable =  False\n",
    "model = tf.keras.Sequential([\n",
    "                             vgg_model,\n",
    "                             Flatten(),\n",
    "                             tf.keras.layers.Dense(512, activation='relu'),\n",
    "                             tf.keras.layers.Dense(224, activation='softmax')\n",
    "                                      ])\n",
    "model.summary()"
   ]
  },
  {
   "cell_type": "code",
   "execution_count": 8,
   "id": "463cfa31",
   "metadata": {},
   "outputs": [
    {
     "name": "stdout",
     "output_type": "stream",
     "text": [
      "90/90 [==============================] - 78s 812ms/step - loss: 8.4863 - categorical_accuracy: 0.0040 - val_loss: 7.6458 - val_categorical_accuracy: 0.0019\n"
     ]
    },
    {
     "data": {
      "text/plain": [
       "<tensorflow.python.keras.callbacks.History at 0x7fa4859aa358>"
      ]
     },
     "execution_count": 8,
     "metadata": {},
     "output_type": "execute_result"
    }
   ],
   "source": [
    "vgg_model.trainable =  True\n",
    "model.add_loss(lambda: 0.01*tf.reduce_sum(tf.square(model.layers[-1].kernel)))\n",
    "\n",
    "model.compile(optimizer=tf.keras.optimizers.Adam(0.0002),\n",
    "              loss=tf.keras.losses.CategoricalCrossentropy(from_logits=True), \n",
    "              metrics=tf.keras.metrics.CategoricalAccuracy())\n",
    "model.fit(x_train, y_train, batch_size=24, epochs=1, validation_split=0.2)"
   ]
  },
  {
   "cell_type": "code",
   "execution_count": 10,
   "id": "1d4d5f7e",
   "metadata": {},
   "outputs": [
    {
     "name": "stdout",
     "output_type": "stream",
     "text": [
      "Epoch 1/25\n",
      "90/90 [==============================] - 71s 785ms/step - loss: 7.0135 - categorical_accuracy: 0.0060 - val_loss: 6.7680 - val_categorical_accuracy: 0.0000e+00\n",
      "Epoch 2/25\n",
      "90/90 [==============================] - 70s 782ms/step - loss: 6.5577 - categorical_accuracy: 0.0037 - val_loss: 6.3930 - val_categorical_accuracy: 0.0000e+00\n",
      "Epoch 3/25\n",
      "90/90 [==============================] - 70s 780ms/step - loss: 6.1972 - categorical_accuracy: 0.0070 - val_loss: 6.1209 - val_categorical_accuracy: 0.0019\n",
      "Epoch 4/25\n",
      "90/90 [==============================] - 70s 778ms/step - loss: 5.8114 - categorical_accuracy: 0.0153 - val_loss: 5.7824 - val_categorical_accuracy: 0.0130\n",
      "Epoch 5/25\n",
      "90/90 [==============================] - 70s 778ms/step - loss: 5.2569 - categorical_accuracy: 0.0609 - val_loss: 5.1917 - val_categorical_accuracy: 0.0706\n",
      "Epoch 6/25\n",
      "90/90 [==============================] - 70s 776ms/step - loss: 4.4661 - categorical_accuracy: 0.1363 - val_loss: 4.5167 - val_categorical_accuracy: 0.1283\n",
      "Epoch 7/25\n",
      "90/90 [==============================] - 70s 776ms/step - loss: 3.5516 - categorical_accuracy: 0.2502 - val_loss: 3.9207 - val_categorical_accuracy: 0.2007\n",
      "Epoch 8/25\n",
      "90/90 [==============================] - 70s 776ms/step - loss: 2.7508 - categorical_accuracy: 0.3786 - val_loss: 3.2173 - val_categorical_accuracy: 0.3327\n",
      "Epoch 9/25\n",
      "90/90 [==============================] - 70s 774ms/step - loss: 2.0680 - categorical_accuracy: 0.5158 - val_loss: 2.8854 - val_categorical_accuracy: 0.4015\n",
      "Epoch 10/25\n",
      "90/90 [==============================] - 70s 775ms/step - loss: 1.5086 - categorical_accuracy: 0.6684 - val_loss: 2.3939 - val_categorical_accuracy: 0.5520\n",
      "Epoch 11/25\n",
      "90/90 [==============================] - 70s 774ms/step - loss: 1.1751 - categorical_accuracy: 0.7526 - val_loss: 2.1349 - val_categorical_accuracy: 0.6264\n",
      "Epoch 12/25\n",
      "90/90 [==============================] - 70s 775ms/step - loss: 0.8893 - categorical_accuracy: 0.8321 - val_loss: 2.2137 - val_categorical_accuracy: 0.6710\n",
      "Epoch 13/25\n",
      "90/90 [==============================] - 70s 774ms/step - loss: 0.7299 - categorical_accuracy: 0.8609 - val_loss: 2.2263 - val_categorical_accuracy: 0.6952\n",
      "Epoch 14/25\n",
      "90/90 [==============================] - 70s 775ms/step - loss: 0.5782 - categorical_accuracy: 0.9056 - val_loss: 1.8746 - val_categorical_accuracy: 0.7602\n",
      "Epoch 15/25\n",
      "90/90 [==============================] - 70s 775ms/step - loss: 0.4349 - categorical_accuracy: 0.9419 - val_loss: 1.6832 - val_categorical_accuracy: 0.8309\n",
      "Epoch 16/25\n",
      "90/90 [==============================] - 70s 775ms/step - loss: 0.3823 - categorical_accuracy: 0.9553 - val_loss: 2.0719 - val_categorical_accuracy: 0.7993\n",
      "Epoch 17/25\n",
      "90/90 [==============================] - 70s 775ms/step - loss: 0.4261 - categorical_accuracy: 0.9442 - val_loss: 1.7518 - val_categorical_accuracy: 0.7974\n",
      "Epoch 18/25\n",
      "90/90 [==============================] - 70s 774ms/step - loss: 0.3398 - categorical_accuracy: 0.9581 - val_loss: 1.5817 - val_categorical_accuracy: 0.8178\n",
      "Epoch 19/25\n",
      "90/90 [==============================] - 70s 774ms/step - loss: 0.3648 - categorical_accuracy: 0.9530 - val_loss: 1.8741 - val_categorical_accuracy: 0.8011\n",
      "Epoch 20/25\n",
      " 8/90 [=>............................] - ETA: 59s - loss: 0.6686 - categorical_accuracy: 0.8906"
     ]
    },
    {
     "ename": "KeyboardInterrupt",
     "evalue": "",
     "output_type": "error",
     "traceback": [
      "\u001b[0;31m---------------------------------------------------------------------------\u001b[0m",
      "\u001b[0;31mKeyboardInterrupt\u001b[0m                         Traceback (most recent call last)",
      "\u001b[0;32m<ipython-input-10-0abc1e78ab48>\u001b[0m in \u001b[0;36m<module>\u001b[0;34m\u001b[0m\n\u001b[0;32m----> 1\u001b[0;31m \u001b[0mmodel\u001b[0m\u001b[0;34m.\u001b[0m\u001b[0mfit\u001b[0m\u001b[0;34m(\u001b[0m\u001b[0mx_train\u001b[0m\u001b[0;34m,\u001b[0m \u001b[0my_train\u001b[0m\u001b[0;34m,\u001b[0m \u001b[0mbatch_size\u001b[0m\u001b[0;34m=\u001b[0m\u001b[0;36m24\u001b[0m\u001b[0;34m,\u001b[0m \u001b[0mepochs\u001b[0m\u001b[0;34m=\u001b[0m\u001b[0;36m25\u001b[0m\u001b[0;34m,\u001b[0m\u001b[0mvalidation_split\u001b[0m\u001b[0;34m=\u001b[0m\u001b[0;36m0.2\u001b[0m\u001b[0;34m)\u001b[0m\u001b[0;34m\u001b[0m\u001b[0;34m\u001b[0m\u001b[0m\n\u001b[0m",
      "\u001b[0;32m~/envTF24/lib/python3.6/site-packages/tensorflow/python/keras/engine/training.py\u001b[0m in \u001b[0;36mfit\u001b[0;34m(self, x, y, batch_size, epochs, verbose, callbacks, validation_split, validation_data, shuffle, class_weight, sample_weight, initial_epoch, steps_per_epoch, validation_steps, validation_batch_size, validation_freq, max_queue_size, workers, use_multiprocessing)\u001b[0m\n\u001b[1;32m   1098\u001b[0m                 _r=1):\n\u001b[1;32m   1099\u001b[0m               \u001b[0mcallbacks\u001b[0m\u001b[0;34m.\u001b[0m\u001b[0mon_train_batch_begin\u001b[0m\u001b[0;34m(\u001b[0m\u001b[0mstep\u001b[0m\u001b[0;34m)\u001b[0m\u001b[0;34m\u001b[0m\u001b[0;34m\u001b[0m\u001b[0m\n\u001b[0;32m-> 1100\u001b[0;31m               \u001b[0mtmp_logs\u001b[0m \u001b[0;34m=\u001b[0m \u001b[0mself\u001b[0m\u001b[0;34m.\u001b[0m\u001b[0mtrain_function\u001b[0m\u001b[0;34m(\u001b[0m\u001b[0miterator\u001b[0m\u001b[0;34m)\u001b[0m\u001b[0;34m\u001b[0m\u001b[0;34m\u001b[0m\u001b[0m\n\u001b[0m\u001b[1;32m   1101\u001b[0m               \u001b[0;32mif\u001b[0m \u001b[0mdata_handler\u001b[0m\u001b[0;34m.\u001b[0m\u001b[0mshould_sync\u001b[0m\u001b[0;34m:\u001b[0m\u001b[0;34m\u001b[0m\u001b[0;34m\u001b[0m\u001b[0m\n\u001b[1;32m   1102\u001b[0m                 \u001b[0mcontext\u001b[0m\u001b[0;34m.\u001b[0m\u001b[0masync_wait\u001b[0m\u001b[0;34m(\u001b[0m\u001b[0;34m)\u001b[0m\u001b[0;34m\u001b[0m\u001b[0;34m\u001b[0m\u001b[0m\n",
      "\u001b[0;32m~/envTF24/lib/python3.6/site-packages/tensorflow/python/eager/def_function.py\u001b[0m in \u001b[0;36m__call__\u001b[0;34m(self, *args, **kwds)\u001b[0m\n\u001b[1;32m    826\u001b[0m     \u001b[0mtracing_count\u001b[0m \u001b[0;34m=\u001b[0m \u001b[0mself\u001b[0m\u001b[0;34m.\u001b[0m\u001b[0mexperimental_get_tracing_count\u001b[0m\u001b[0;34m(\u001b[0m\u001b[0;34m)\u001b[0m\u001b[0;34m\u001b[0m\u001b[0;34m\u001b[0m\u001b[0m\n\u001b[1;32m    827\u001b[0m     \u001b[0;32mwith\u001b[0m \u001b[0mtrace\u001b[0m\u001b[0;34m.\u001b[0m\u001b[0mTrace\u001b[0m\u001b[0;34m(\u001b[0m\u001b[0mself\u001b[0m\u001b[0;34m.\u001b[0m\u001b[0m_name\u001b[0m\u001b[0;34m)\u001b[0m \u001b[0;32mas\u001b[0m \u001b[0mtm\u001b[0m\u001b[0;34m:\u001b[0m\u001b[0;34m\u001b[0m\u001b[0;34m\u001b[0m\u001b[0m\n\u001b[0;32m--> 828\u001b[0;31m       \u001b[0mresult\u001b[0m \u001b[0;34m=\u001b[0m \u001b[0mself\u001b[0m\u001b[0;34m.\u001b[0m\u001b[0m_call\u001b[0m\u001b[0;34m(\u001b[0m\u001b[0;34m*\u001b[0m\u001b[0margs\u001b[0m\u001b[0;34m,\u001b[0m \u001b[0;34m**\u001b[0m\u001b[0mkwds\u001b[0m\u001b[0;34m)\u001b[0m\u001b[0;34m\u001b[0m\u001b[0;34m\u001b[0m\u001b[0m\n\u001b[0m\u001b[1;32m    829\u001b[0m       \u001b[0mcompiler\u001b[0m \u001b[0;34m=\u001b[0m \u001b[0;34m\"xla\"\u001b[0m \u001b[0;32mif\u001b[0m \u001b[0mself\u001b[0m\u001b[0;34m.\u001b[0m\u001b[0m_experimental_compile\u001b[0m \u001b[0;32melse\u001b[0m \u001b[0;34m\"nonXla\"\u001b[0m\u001b[0;34m\u001b[0m\u001b[0;34m\u001b[0m\u001b[0m\n\u001b[1;32m    830\u001b[0m       \u001b[0mnew_tracing_count\u001b[0m \u001b[0;34m=\u001b[0m \u001b[0mself\u001b[0m\u001b[0;34m.\u001b[0m\u001b[0mexperimental_get_tracing_count\u001b[0m\u001b[0;34m(\u001b[0m\u001b[0;34m)\u001b[0m\u001b[0;34m\u001b[0m\u001b[0;34m\u001b[0m\u001b[0m\n",
      "\u001b[0;32m~/envTF24/lib/python3.6/site-packages/tensorflow/python/eager/def_function.py\u001b[0m in \u001b[0;36m_call\u001b[0;34m(self, *args, **kwds)\u001b[0m\n\u001b[1;32m    853\u001b[0m       \u001b[0;31m# In this case we have created variables on the first call, so we run the\u001b[0m\u001b[0;34m\u001b[0m\u001b[0;34m\u001b[0m\u001b[0;34m\u001b[0m\u001b[0m\n\u001b[1;32m    854\u001b[0m       \u001b[0;31m# defunned version which is guaranteed to never create variables.\u001b[0m\u001b[0;34m\u001b[0m\u001b[0;34m\u001b[0m\u001b[0;34m\u001b[0m\u001b[0m\n\u001b[0;32m--> 855\u001b[0;31m       \u001b[0;32mreturn\u001b[0m \u001b[0mself\u001b[0m\u001b[0;34m.\u001b[0m\u001b[0m_stateless_fn\u001b[0m\u001b[0;34m(\u001b[0m\u001b[0;34m*\u001b[0m\u001b[0margs\u001b[0m\u001b[0;34m,\u001b[0m \u001b[0;34m**\u001b[0m\u001b[0mkwds\u001b[0m\u001b[0;34m)\u001b[0m  \u001b[0;31m# pylint: disable=not-callable\u001b[0m\u001b[0;34m\u001b[0m\u001b[0;34m\u001b[0m\u001b[0m\n\u001b[0m\u001b[1;32m    856\u001b[0m     \u001b[0;32melif\u001b[0m \u001b[0mself\u001b[0m\u001b[0;34m.\u001b[0m\u001b[0m_stateful_fn\u001b[0m \u001b[0;32mis\u001b[0m \u001b[0;32mnot\u001b[0m \u001b[0;32mNone\u001b[0m\u001b[0;34m:\u001b[0m\u001b[0;34m\u001b[0m\u001b[0;34m\u001b[0m\u001b[0m\n\u001b[1;32m    857\u001b[0m       \u001b[0;31m# Release the lock early so that multiple threads can perform the call\u001b[0m\u001b[0;34m\u001b[0m\u001b[0;34m\u001b[0m\u001b[0;34m\u001b[0m\u001b[0m\n",
      "\u001b[0;32m~/envTF24/lib/python3.6/site-packages/tensorflow/python/eager/function.py\u001b[0m in \u001b[0;36m__call__\u001b[0;34m(self, *args, **kwargs)\u001b[0m\n\u001b[1;32m   2941\u001b[0m        filtered_flat_args) = self._maybe_define_function(args, kwargs)\n\u001b[1;32m   2942\u001b[0m     return graph_function._call_flat(\n\u001b[0;32m-> 2943\u001b[0;31m         filtered_flat_args, captured_inputs=graph_function.captured_inputs)  # pylint: disable=protected-access\n\u001b[0m\u001b[1;32m   2944\u001b[0m \u001b[0;34m\u001b[0m\u001b[0m\n\u001b[1;32m   2945\u001b[0m   \u001b[0;34m@\u001b[0m\u001b[0mproperty\u001b[0m\u001b[0;34m\u001b[0m\u001b[0;34m\u001b[0m\u001b[0m\n",
      "\u001b[0;32m~/envTF24/lib/python3.6/site-packages/tensorflow/python/eager/function.py\u001b[0m in \u001b[0;36m_call_flat\u001b[0;34m(self, args, captured_inputs, cancellation_manager)\u001b[0m\n\u001b[1;32m   1917\u001b[0m       \u001b[0;31m# No tape is watching; skip to running the function.\u001b[0m\u001b[0;34m\u001b[0m\u001b[0;34m\u001b[0m\u001b[0;34m\u001b[0m\u001b[0m\n\u001b[1;32m   1918\u001b[0m       return self._build_call_outputs(self._inference_function.call(\n\u001b[0;32m-> 1919\u001b[0;31m           ctx, args, cancellation_manager=cancellation_manager))\n\u001b[0m\u001b[1;32m   1920\u001b[0m     forward_backward = self._select_forward_and_backward_functions(\n\u001b[1;32m   1921\u001b[0m         \u001b[0margs\u001b[0m\u001b[0;34m,\u001b[0m\u001b[0;34m\u001b[0m\u001b[0;34m\u001b[0m\u001b[0m\n",
      "\u001b[0;32m~/envTF24/lib/python3.6/site-packages/tensorflow/python/eager/function.py\u001b[0m in \u001b[0;36mcall\u001b[0;34m(self, ctx, args, cancellation_manager)\u001b[0m\n\u001b[1;32m    558\u001b[0m               \u001b[0minputs\u001b[0m\u001b[0;34m=\u001b[0m\u001b[0margs\u001b[0m\u001b[0;34m,\u001b[0m\u001b[0;34m\u001b[0m\u001b[0;34m\u001b[0m\u001b[0m\n\u001b[1;32m    559\u001b[0m               \u001b[0mattrs\u001b[0m\u001b[0;34m=\u001b[0m\u001b[0mattrs\u001b[0m\u001b[0;34m,\u001b[0m\u001b[0;34m\u001b[0m\u001b[0;34m\u001b[0m\u001b[0m\n\u001b[0;32m--> 560\u001b[0;31m               ctx=ctx)\n\u001b[0m\u001b[1;32m    561\u001b[0m         \u001b[0;32melse\u001b[0m\u001b[0;34m:\u001b[0m\u001b[0;34m\u001b[0m\u001b[0;34m\u001b[0m\u001b[0m\n\u001b[1;32m    562\u001b[0m           outputs = execute.execute_with_cancellation(\n",
      "\u001b[0;32m~/envTF24/lib/python3.6/site-packages/tensorflow/python/eager/execute.py\u001b[0m in \u001b[0;36mquick_execute\u001b[0;34m(op_name, num_outputs, inputs, attrs, ctx, name)\u001b[0m\n\u001b[1;32m     58\u001b[0m     \u001b[0mctx\u001b[0m\u001b[0;34m.\u001b[0m\u001b[0mensure_initialized\u001b[0m\u001b[0;34m(\u001b[0m\u001b[0;34m)\u001b[0m\u001b[0;34m\u001b[0m\u001b[0;34m\u001b[0m\u001b[0m\n\u001b[1;32m     59\u001b[0m     tensors = pywrap_tfe.TFE_Py_Execute(ctx._handle, device_name, op_name,\n\u001b[0;32m---> 60\u001b[0;31m                                         inputs, attrs, num_outputs)\n\u001b[0m\u001b[1;32m     61\u001b[0m   \u001b[0;32mexcept\u001b[0m \u001b[0mcore\u001b[0m\u001b[0;34m.\u001b[0m\u001b[0m_NotOkStatusException\u001b[0m \u001b[0;32mas\u001b[0m \u001b[0me\u001b[0m\u001b[0;34m:\u001b[0m\u001b[0;34m\u001b[0m\u001b[0;34m\u001b[0m\u001b[0m\n\u001b[1;32m     62\u001b[0m     \u001b[0;32mif\u001b[0m \u001b[0mname\u001b[0m \u001b[0;32mis\u001b[0m \u001b[0;32mnot\u001b[0m \u001b[0;32mNone\u001b[0m\u001b[0;34m:\u001b[0m\u001b[0;34m\u001b[0m\u001b[0;34m\u001b[0m\u001b[0m\n",
      "\u001b[0;31mKeyboardInterrupt\u001b[0m: "
     ]
    }
   ],
   "source": [
    "# Manually stop at 20th epoch\n",
    "model.fit(x_train, y_train, batch_size=24, epochs=25,validation_split=0.2)"
   ]
  },
  {
   "cell_type": "code",
   "execution_count": 11,
   "id": "afb152d6",
   "metadata": {},
   "outputs": [
    {
     "name": "stdout",
     "output_type": "stream",
     "text": [
      "28/28 [==============================] - 17s 241ms/step - loss: 1.9547 - categorical_accuracy: 0.7132\n"
     ]
    },
    {
     "data": {
      "text/plain": [
       "[1.9546836614608765, 0.7131696343421936]"
      ]
     },
     "execution_count": 11,
     "metadata": {},
     "output_type": "execute_result"
    }
   ],
   "source": [
    "model.evaluate(x_test, y_test)"
   ]
  }
 ],
 "metadata": {
  "kernelspec": {
   "display_name": "Python 3",
   "language": "python",
   "name": "python3"
  },
  "language_info": {
   "codemirror_mode": {
    "name": "ipython",
    "version": 3
   },
   "file_extension": ".py",
   "mimetype": "text/x-python",
   "name": "python",
   "nbconvert_exporter": "python",
   "pygments_lexer": "ipython3",
   "version": "3.6.9"
  }
 },
 "nbformat": 4,
 "nbformat_minor": 5
}
